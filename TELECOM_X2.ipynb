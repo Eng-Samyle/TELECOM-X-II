{
  "nbformat": 4,
  "nbformat_minor": 0,
  "metadata": {
    "colab": {
      "provenance": [],
      "authorship_tag": "ABX9TyOLJJ0fQ3rylY+018EneBi5",
      "include_colab_link": true
    },
    "kernelspec": {
      "name": "python3",
      "display_name": "Python 3"
    },
    "language_info": {
      "name": "python"
    }
  },
  "cells": [
    {
      "cell_type": "markdown",
      "metadata": {
        "id": "view-in-github",
        "colab_type": "text"
      },
      "source": [
        "<a href=\"https://colab.research.google.com/github/Eng-Samyle/TELECOM-X-II/blob/main/TELECOM_X2.ipynb\" target=\"_parent\"><img src=\"https://colab.research.google.com/assets/colab-badge.svg\" alt=\"Open In Colab\"/></a>"
      ]
    },
    {
      "cell_type": "markdown",
      "source": [
        "## Bibliotecas iniciais"
      ],
      "metadata": {
        "id": "tFVjikge-X3G"
      }
    },
    {
      "cell_type": "code",
      "execution_count": 136,
      "metadata": {
        "id": "RGlF0kA39_hF"
      },
      "outputs": [],
      "source": [
        "import pandas as pd\n",
        "import numpy as np"
      ]
    },
    {
      "cell_type": "markdown",
      "source": [
        "# Importando os dados"
      ],
      "metadata": {
        "id": "VdXI9wzn-dIB"
      }
    },
    {
      "cell_type": "code",
      "source": [
        "dados = 'https://raw.githubusercontent.com/Eng-Samyle/TELECOM-X-II/refs/heads/main/Telecom_XII.csv'\n",
        "dados = pd.read_csv(dados)\n",
        "dados.head()"
      ],
      "metadata": {
        "colab": {
          "base_uri": "https://localhost:8080/",
          "height": 343
        },
        "id": "JdBhZuAr-c1p",
        "outputId": "fa489ffa-eab5-4fea-f7a9-66c95f3bf0b5"
      },
      "execution_count": 137,
      "outputs": [
        {
          "output_type": "execute_result",
          "data": {
            "text/plain": [
              "   customerID Churn  gender  SeniorCitizen Partner Dependents  tenure  \\\n",
              "0  0002-ORFBO    no  Female              0     Yes        Yes       9   \n",
              "1  0003-MKNFE    no    Male              0      No         No       9   \n",
              "2  0004-TLHLJ   yes    Male              0      No         No       4   \n",
              "3  0011-IGKFF   yes    Male              1     Yes         No      13   \n",
              "4  0013-EXCHZ   yes  Female              1     Yes         No       3   \n",
              "\n",
              "  PhoneService MultipleLines InternetService  ... OnlineBackup  \\\n",
              "0          Yes            No             DSL  ...          Yes   \n",
              "1          Yes           Yes             DSL  ...           No   \n",
              "2          Yes            No     Fiber optic  ...           No   \n",
              "3          Yes            No     Fiber optic  ...          Yes   \n",
              "4          Yes            No     Fiber optic  ...           No   \n",
              "\n",
              "  DeviceProtection TechSupport StreamingTV StreamingMovies        Contract  \\\n",
              "0               No         Yes         Yes              No        One year   \n",
              "1               No          No          No             Yes  Month-to-month   \n",
              "2              Yes          No          No              No  Month-to-month   \n",
              "3              Yes          No         Yes             Yes  Month-to-month   \n",
              "4               No         Yes         Yes              No  Month-to-month   \n",
              "\n",
              "  PaperlessBilling     PaymentMethod Charges.Monthly  Charges.Total  \n",
              "0              Yes      Mailed check            65.6          593.3  \n",
              "1               No      Mailed check            59.9          542.4  \n",
              "2              Yes  Electronic check            73.9         280.85  \n",
              "3              Yes  Electronic check            98.0        1237.85  \n",
              "4              Yes      Mailed check            83.9          267.4  \n",
              "\n",
              "[5 rows x 21 columns]"
            ],
            "text/html": [
              "\n",
              "  <div id=\"df-f19ebafb-ed32-4a81-bcb4-61859a06db1e\" class=\"colab-df-container\">\n",
              "    <div>\n",
              "<style scoped>\n",
              "    .dataframe tbody tr th:only-of-type {\n",
              "        vertical-align: middle;\n",
              "    }\n",
              "\n",
              "    .dataframe tbody tr th {\n",
              "        vertical-align: top;\n",
              "    }\n",
              "\n",
              "    .dataframe thead th {\n",
              "        text-align: right;\n",
              "    }\n",
              "</style>\n",
              "<table border=\"1\" class=\"dataframe\">\n",
              "  <thead>\n",
              "    <tr style=\"text-align: right;\">\n",
              "      <th></th>\n",
              "      <th>customerID</th>\n",
              "      <th>Churn</th>\n",
              "      <th>gender</th>\n",
              "      <th>SeniorCitizen</th>\n",
              "      <th>Partner</th>\n",
              "      <th>Dependents</th>\n",
              "      <th>tenure</th>\n",
              "      <th>PhoneService</th>\n",
              "      <th>MultipleLines</th>\n",
              "      <th>InternetService</th>\n",
              "      <th>...</th>\n",
              "      <th>OnlineBackup</th>\n",
              "      <th>DeviceProtection</th>\n",
              "      <th>TechSupport</th>\n",
              "      <th>StreamingTV</th>\n",
              "      <th>StreamingMovies</th>\n",
              "      <th>Contract</th>\n",
              "      <th>PaperlessBilling</th>\n",
              "      <th>PaymentMethod</th>\n",
              "      <th>Charges.Monthly</th>\n",
              "      <th>Charges.Total</th>\n",
              "    </tr>\n",
              "  </thead>\n",
              "  <tbody>\n",
              "    <tr>\n",
              "      <th>0</th>\n",
              "      <td>0002-ORFBO</td>\n",
              "      <td>no</td>\n",
              "      <td>Female</td>\n",
              "      <td>0</td>\n",
              "      <td>Yes</td>\n",
              "      <td>Yes</td>\n",
              "      <td>9</td>\n",
              "      <td>Yes</td>\n",
              "      <td>No</td>\n",
              "      <td>DSL</td>\n",
              "      <td>...</td>\n",
              "      <td>Yes</td>\n",
              "      <td>No</td>\n",
              "      <td>Yes</td>\n",
              "      <td>Yes</td>\n",
              "      <td>No</td>\n",
              "      <td>One year</td>\n",
              "      <td>Yes</td>\n",
              "      <td>Mailed check</td>\n",
              "      <td>65.6</td>\n",
              "      <td>593.3</td>\n",
              "    </tr>\n",
              "    <tr>\n",
              "      <th>1</th>\n",
              "      <td>0003-MKNFE</td>\n",
              "      <td>no</td>\n",
              "      <td>Male</td>\n",
              "      <td>0</td>\n",
              "      <td>No</td>\n",
              "      <td>No</td>\n",
              "      <td>9</td>\n",
              "      <td>Yes</td>\n",
              "      <td>Yes</td>\n",
              "      <td>DSL</td>\n",
              "      <td>...</td>\n",
              "      <td>No</td>\n",
              "      <td>No</td>\n",
              "      <td>No</td>\n",
              "      <td>No</td>\n",
              "      <td>Yes</td>\n",
              "      <td>Month-to-month</td>\n",
              "      <td>No</td>\n",
              "      <td>Mailed check</td>\n",
              "      <td>59.9</td>\n",
              "      <td>542.4</td>\n",
              "    </tr>\n",
              "    <tr>\n",
              "      <th>2</th>\n",
              "      <td>0004-TLHLJ</td>\n",
              "      <td>yes</td>\n",
              "      <td>Male</td>\n",
              "      <td>0</td>\n",
              "      <td>No</td>\n",
              "      <td>No</td>\n",
              "      <td>4</td>\n",
              "      <td>Yes</td>\n",
              "      <td>No</td>\n",
              "      <td>Fiber optic</td>\n",
              "      <td>...</td>\n",
              "      <td>No</td>\n",
              "      <td>Yes</td>\n",
              "      <td>No</td>\n",
              "      <td>No</td>\n",
              "      <td>No</td>\n",
              "      <td>Month-to-month</td>\n",
              "      <td>Yes</td>\n",
              "      <td>Electronic check</td>\n",
              "      <td>73.9</td>\n",
              "      <td>280.85</td>\n",
              "    </tr>\n",
              "    <tr>\n",
              "      <th>3</th>\n",
              "      <td>0011-IGKFF</td>\n",
              "      <td>yes</td>\n",
              "      <td>Male</td>\n",
              "      <td>1</td>\n",
              "      <td>Yes</td>\n",
              "      <td>No</td>\n",
              "      <td>13</td>\n",
              "      <td>Yes</td>\n",
              "      <td>No</td>\n",
              "      <td>Fiber optic</td>\n",
              "      <td>...</td>\n",
              "      <td>Yes</td>\n",
              "      <td>Yes</td>\n",
              "      <td>No</td>\n",
              "      <td>Yes</td>\n",
              "      <td>Yes</td>\n",
              "      <td>Month-to-month</td>\n",
              "      <td>Yes</td>\n",
              "      <td>Electronic check</td>\n",
              "      <td>98.0</td>\n",
              "      <td>1237.85</td>\n",
              "    </tr>\n",
              "    <tr>\n",
              "      <th>4</th>\n",
              "      <td>0013-EXCHZ</td>\n",
              "      <td>yes</td>\n",
              "      <td>Female</td>\n",
              "      <td>1</td>\n",
              "      <td>Yes</td>\n",
              "      <td>No</td>\n",
              "      <td>3</td>\n",
              "      <td>Yes</td>\n",
              "      <td>No</td>\n",
              "      <td>Fiber optic</td>\n",
              "      <td>...</td>\n",
              "      <td>No</td>\n",
              "      <td>No</td>\n",
              "      <td>Yes</td>\n",
              "      <td>Yes</td>\n",
              "      <td>No</td>\n",
              "      <td>Month-to-month</td>\n",
              "      <td>Yes</td>\n",
              "      <td>Mailed check</td>\n",
              "      <td>83.9</td>\n",
              "      <td>267.4</td>\n",
              "    </tr>\n",
              "  </tbody>\n",
              "</table>\n",
              "<p>5 rows × 21 columns</p>\n",
              "</div>\n",
              "    <div class=\"colab-df-buttons\">\n",
              "\n",
              "  <div class=\"colab-df-container\">\n",
              "    <button class=\"colab-df-convert\" onclick=\"convertToInteractive('df-f19ebafb-ed32-4a81-bcb4-61859a06db1e')\"\n",
              "            title=\"Convert this dataframe to an interactive table.\"\n",
              "            style=\"display:none;\">\n",
              "\n",
              "  <svg xmlns=\"http://www.w3.org/2000/svg\" height=\"24px\" viewBox=\"0 -960 960 960\">\n",
              "    <path d=\"M120-120v-720h720v720H120Zm60-500h600v-160H180v160Zm220 220h160v-160H400v160Zm0 220h160v-160H400v160ZM180-400h160v-160H180v160Zm440 0h160v-160H620v160ZM180-180h160v-160H180v160Zm440 0h160v-160H620v160Z\"/>\n",
              "  </svg>\n",
              "    </button>\n",
              "\n",
              "  <style>\n",
              "    .colab-df-container {\n",
              "      display:flex;\n",
              "      gap: 12px;\n",
              "    }\n",
              "\n",
              "    .colab-df-convert {\n",
              "      background-color: #E8F0FE;\n",
              "      border: none;\n",
              "      border-radius: 50%;\n",
              "      cursor: pointer;\n",
              "      display: none;\n",
              "      fill: #1967D2;\n",
              "      height: 32px;\n",
              "      padding: 0 0 0 0;\n",
              "      width: 32px;\n",
              "    }\n",
              "\n",
              "    .colab-df-convert:hover {\n",
              "      background-color: #E2EBFA;\n",
              "      box-shadow: 0px 1px 2px rgba(60, 64, 67, 0.3), 0px 1px 3px 1px rgba(60, 64, 67, 0.15);\n",
              "      fill: #174EA6;\n",
              "    }\n",
              "\n",
              "    .colab-df-buttons div {\n",
              "      margin-bottom: 4px;\n",
              "    }\n",
              "\n",
              "    [theme=dark] .colab-df-convert {\n",
              "      background-color: #3B4455;\n",
              "      fill: #D2E3FC;\n",
              "    }\n",
              "\n",
              "    [theme=dark] .colab-df-convert:hover {\n",
              "      background-color: #434B5C;\n",
              "      box-shadow: 0px 1px 3px 1px rgba(0, 0, 0, 0.15);\n",
              "      filter: drop-shadow(0px 1px 2px rgba(0, 0, 0, 0.3));\n",
              "      fill: #FFFFFF;\n",
              "    }\n",
              "  </style>\n",
              "\n",
              "    <script>\n",
              "      const buttonEl =\n",
              "        document.querySelector('#df-f19ebafb-ed32-4a81-bcb4-61859a06db1e button.colab-df-convert');\n",
              "      buttonEl.style.display =\n",
              "        google.colab.kernel.accessAllowed ? 'block' : 'none';\n",
              "\n",
              "      async function convertToInteractive(key) {\n",
              "        const element = document.querySelector('#df-f19ebafb-ed32-4a81-bcb4-61859a06db1e');\n",
              "        const dataTable =\n",
              "          await google.colab.kernel.invokeFunction('convertToInteractive',\n",
              "                                                    [key], {});\n",
              "        if (!dataTable) return;\n",
              "\n",
              "        const docLinkHtml = 'Like what you see? Visit the ' +\n",
              "          '<a target=\"_blank\" href=https://colab.research.google.com/notebooks/data_table.ipynb>data table notebook</a>'\n",
              "          + ' to learn more about interactive tables.';\n",
              "        element.innerHTML = '';\n",
              "        dataTable['output_type'] = 'display_data';\n",
              "        await google.colab.output.renderOutput(dataTable, element);\n",
              "        const docLink = document.createElement('div');\n",
              "        docLink.innerHTML = docLinkHtml;\n",
              "        element.appendChild(docLink);\n",
              "      }\n",
              "    </script>\n",
              "  </div>\n",
              "\n",
              "\n",
              "    <div id=\"df-ed7588a5-29f8-46e2-b4df-6b34e4de2b53\">\n",
              "      <button class=\"colab-df-quickchart\" onclick=\"quickchart('df-ed7588a5-29f8-46e2-b4df-6b34e4de2b53')\"\n",
              "                title=\"Suggest charts\"\n",
              "                style=\"display:none;\">\n",
              "\n",
              "<svg xmlns=\"http://www.w3.org/2000/svg\" height=\"24px\"viewBox=\"0 0 24 24\"\n",
              "     width=\"24px\">\n",
              "    <g>\n",
              "        <path d=\"M19 3H5c-1.1 0-2 .9-2 2v14c0 1.1.9 2 2 2h14c1.1 0 2-.9 2-2V5c0-1.1-.9-2-2-2zM9 17H7v-7h2v7zm4 0h-2V7h2v10zm4 0h-2v-4h2v4z\"/>\n",
              "    </g>\n",
              "</svg>\n",
              "      </button>\n",
              "\n",
              "<style>\n",
              "  .colab-df-quickchart {\n",
              "      --bg-color: #E8F0FE;\n",
              "      --fill-color: #1967D2;\n",
              "      --hover-bg-color: #E2EBFA;\n",
              "      --hover-fill-color: #174EA6;\n",
              "      --disabled-fill-color: #AAA;\n",
              "      --disabled-bg-color: #DDD;\n",
              "  }\n",
              "\n",
              "  [theme=dark] .colab-df-quickchart {\n",
              "      --bg-color: #3B4455;\n",
              "      --fill-color: #D2E3FC;\n",
              "      --hover-bg-color: #434B5C;\n",
              "      --hover-fill-color: #FFFFFF;\n",
              "      --disabled-bg-color: #3B4455;\n",
              "      --disabled-fill-color: #666;\n",
              "  }\n",
              "\n",
              "  .colab-df-quickchart {\n",
              "    background-color: var(--bg-color);\n",
              "    border: none;\n",
              "    border-radius: 50%;\n",
              "    cursor: pointer;\n",
              "    display: none;\n",
              "    fill: var(--fill-color);\n",
              "    height: 32px;\n",
              "    padding: 0;\n",
              "    width: 32px;\n",
              "  }\n",
              "\n",
              "  .colab-df-quickchart:hover {\n",
              "    background-color: var(--hover-bg-color);\n",
              "    box-shadow: 0 1px 2px rgba(60, 64, 67, 0.3), 0 1px 3px 1px rgba(60, 64, 67, 0.15);\n",
              "    fill: var(--button-hover-fill-color);\n",
              "  }\n",
              "\n",
              "  .colab-df-quickchart-complete:disabled,\n",
              "  .colab-df-quickchart-complete:disabled:hover {\n",
              "    background-color: var(--disabled-bg-color);\n",
              "    fill: var(--disabled-fill-color);\n",
              "    box-shadow: none;\n",
              "  }\n",
              "\n",
              "  .colab-df-spinner {\n",
              "    border: 2px solid var(--fill-color);\n",
              "    border-color: transparent;\n",
              "    border-bottom-color: var(--fill-color);\n",
              "    animation:\n",
              "      spin 1s steps(1) infinite;\n",
              "  }\n",
              "\n",
              "  @keyframes spin {\n",
              "    0% {\n",
              "      border-color: transparent;\n",
              "      border-bottom-color: var(--fill-color);\n",
              "      border-left-color: var(--fill-color);\n",
              "    }\n",
              "    20% {\n",
              "      border-color: transparent;\n",
              "      border-left-color: var(--fill-color);\n",
              "      border-top-color: var(--fill-color);\n",
              "    }\n",
              "    30% {\n",
              "      border-color: transparent;\n",
              "      border-left-color: var(--fill-color);\n",
              "      border-top-color: var(--fill-color);\n",
              "      border-right-color: var(--fill-color);\n",
              "    }\n",
              "    40% {\n",
              "      border-color: transparent;\n",
              "      border-right-color: var(--fill-color);\n",
              "      border-top-color: var(--fill-color);\n",
              "    }\n",
              "    60% {\n",
              "      border-color: transparent;\n",
              "      border-right-color: var(--fill-color);\n",
              "    }\n",
              "    80% {\n",
              "      border-color: transparent;\n",
              "      border-right-color: var(--fill-color);\n",
              "      border-bottom-color: var(--fill-color);\n",
              "    }\n",
              "    90% {\n",
              "      border-color: transparent;\n",
              "      border-bottom-color: var(--fill-color);\n",
              "    }\n",
              "  }\n",
              "</style>\n",
              "\n",
              "      <script>\n",
              "        async function quickchart(key) {\n",
              "          const quickchartButtonEl =\n",
              "            document.querySelector('#' + key + ' button');\n",
              "          quickchartButtonEl.disabled = true;  // To prevent multiple clicks.\n",
              "          quickchartButtonEl.classList.add('colab-df-spinner');\n",
              "          try {\n",
              "            const charts = await google.colab.kernel.invokeFunction(\n",
              "                'suggestCharts', [key], {});\n",
              "          } catch (error) {\n",
              "            console.error('Error during call to suggestCharts:', error);\n",
              "          }\n",
              "          quickchartButtonEl.classList.remove('colab-df-spinner');\n",
              "          quickchartButtonEl.classList.add('colab-df-quickchart-complete');\n",
              "        }\n",
              "        (() => {\n",
              "          let quickchartButtonEl =\n",
              "            document.querySelector('#df-ed7588a5-29f8-46e2-b4df-6b34e4de2b53 button');\n",
              "          quickchartButtonEl.style.display =\n",
              "            google.colab.kernel.accessAllowed ? 'block' : 'none';\n",
              "        })();\n",
              "      </script>\n",
              "    </div>\n",
              "\n",
              "    </div>\n",
              "  </div>\n"
            ],
            "application/vnd.google.colaboratory.intrinsic+json": {
              "type": "dataframe",
              "variable_name": "dados"
            }
          },
          "metadata": {},
          "execution_count": 137
        }
      ]
    },
    {
      "cell_type": "code",
      "source": [
        "dados.info()"
      ],
      "metadata": {
        "colab": {
          "base_uri": "https://localhost:8080/"
        },
        "id": "lo30D7h--2KC",
        "outputId": "74fddf90-5424-4d85-f702-7256cd3242f1"
      },
      "execution_count": 138,
      "outputs": [
        {
          "output_type": "stream",
          "name": "stdout",
          "text": [
            "<class 'pandas.core.frame.DataFrame'>\n",
            "RangeIndex: 7043 entries, 0 to 7042\n",
            "Data columns (total 21 columns):\n",
            " #   Column            Non-Null Count  Dtype  \n",
            "---  ------            --------------  -----  \n",
            " 0   customerID        7043 non-null   object \n",
            " 1   Churn             7043 non-null   object \n",
            " 2   gender            7043 non-null   object \n",
            " 3   SeniorCitizen     7043 non-null   int64  \n",
            " 4   Partner           7043 non-null   object \n",
            " 5   Dependents        7043 non-null   object \n",
            " 6   tenure            7043 non-null   int64  \n",
            " 7   PhoneService      7043 non-null   object \n",
            " 8   MultipleLines     7043 non-null   object \n",
            " 9   InternetService   7043 non-null   object \n",
            " 10  OnlineSecurity    7043 non-null   object \n",
            " 11  OnlineBackup      7043 non-null   object \n",
            " 12  DeviceProtection  7043 non-null   object \n",
            " 13  TechSupport       7043 non-null   object \n",
            " 14  StreamingTV       7043 non-null   object \n",
            " 15  StreamingMovies   7043 non-null   object \n",
            " 16  Contract          7043 non-null   object \n",
            " 17  PaperlessBilling  7043 non-null   object \n",
            " 18  PaymentMethod     7043 non-null   object \n",
            " 19  Charges.Monthly   7043 non-null   float64\n",
            " 20  Charges.Total     7043 non-null   object \n",
            "dtypes: float64(1), int64(2), object(18)\n",
            "memory usage: 1.1+ MB\n"
          ]
        }
      ]
    },
    {
      "cell_type": "code",
      "source": [
        "dados = dados.drop(['customerID'], axis=1)\n",
        "dados.head()"
      ],
      "metadata": {
        "colab": {
          "base_uri": "https://localhost:8080/",
          "height": 296
        },
        "id": "txeJNuWmAOmZ",
        "outputId": "f5d379e1-43ea-47bf-b72e-c6fc32304d12"
      },
      "execution_count": 139,
      "outputs": [
        {
          "output_type": "execute_result",
          "data": {
            "text/plain": [
              "  Churn  gender  SeniorCitizen Partner Dependents  tenure PhoneService  \\\n",
              "0    no  Female              0     Yes        Yes       9          Yes   \n",
              "1    no    Male              0      No         No       9          Yes   \n",
              "2   yes    Male              0      No         No       4          Yes   \n",
              "3   yes    Male              1     Yes         No      13          Yes   \n",
              "4   yes  Female              1     Yes         No       3          Yes   \n",
              "\n",
              "  MultipleLines InternetService OnlineSecurity OnlineBackup DeviceProtection  \\\n",
              "0            No             DSL             No          Yes               No   \n",
              "1           Yes             DSL             No           No               No   \n",
              "2            No     Fiber optic             No           No              Yes   \n",
              "3            No     Fiber optic             No          Yes              Yes   \n",
              "4            No     Fiber optic             No           No               No   \n",
              "\n",
              "  TechSupport StreamingTV StreamingMovies        Contract PaperlessBilling  \\\n",
              "0         Yes         Yes              No        One year              Yes   \n",
              "1          No          No             Yes  Month-to-month               No   \n",
              "2          No          No              No  Month-to-month              Yes   \n",
              "3          No         Yes             Yes  Month-to-month              Yes   \n",
              "4         Yes         Yes              No  Month-to-month              Yes   \n",
              "\n",
              "      PaymentMethod  Charges.Monthly Charges.Total  \n",
              "0      Mailed check             65.6         593.3  \n",
              "1      Mailed check             59.9         542.4  \n",
              "2  Electronic check             73.9        280.85  \n",
              "3  Electronic check             98.0       1237.85  \n",
              "4      Mailed check             83.9         267.4  "
            ],
            "text/html": [
              "\n",
              "  <div id=\"df-c3ff4287-d48c-41de-96c8-582a1fd743a8\" class=\"colab-df-container\">\n",
              "    <div>\n",
              "<style scoped>\n",
              "    .dataframe tbody tr th:only-of-type {\n",
              "        vertical-align: middle;\n",
              "    }\n",
              "\n",
              "    .dataframe tbody tr th {\n",
              "        vertical-align: top;\n",
              "    }\n",
              "\n",
              "    .dataframe thead th {\n",
              "        text-align: right;\n",
              "    }\n",
              "</style>\n",
              "<table border=\"1\" class=\"dataframe\">\n",
              "  <thead>\n",
              "    <tr style=\"text-align: right;\">\n",
              "      <th></th>\n",
              "      <th>Churn</th>\n",
              "      <th>gender</th>\n",
              "      <th>SeniorCitizen</th>\n",
              "      <th>Partner</th>\n",
              "      <th>Dependents</th>\n",
              "      <th>tenure</th>\n",
              "      <th>PhoneService</th>\n",
              "      <th>MultipleLines</th>\n",
              "      <th>InternetService</th>\n",
              "      <th>OnlineSecurity</th>\n",
              "      <th>OnlineBackup</th>\n",
              "      <th>DeviceProtection</th>\n",
              "      <th>TechSupport</th>\n",
              "      <th>StreamingTV</th>\n",
              "      <th>StreamingMovies</th>\n",
              "      <th>Contract</th>\n",
              "      <th>PaperlessBilling</th>\n",
              "      <th>PaymentMethod</th>\n",
              "      <th>Charges.Monthly</th>\n",
              "      <th>Charges.Total</th>\n",
              "    </tr>\n",
              "  </thead>\n",
              "  <tbody>\n",
              "    <tr>\n",
              "      <th>0</th>\n",
              "      <td>no</td>\n",
              "      <td>Female</td>\n",
              "      <td>0</td>\n",
              "      <td>Yes</td>\n",
              "      <td>Yes</td>\n",
              "      <td>9</td>\n",
              "      <td>Yes</td>\n",
              "      <td>No</td>\n",
              "      <td>DSL</td>\n",
              "      <td>No</td>\n",
              "      <td>Yes</td>\n",
              "      <td>No</td>\n",
              "      <td>Yes</td>\n",
              "      <td>Yes</td>\n",
              "      <td>No</td>\n",
              "      <td>One year</td>\n",
              "      <td>Yes</td>\n",
              "      <td>Mailed check</td>\n",
              "      <td>65.6</td>\n",
              "      <td>593.3</td>\n",
              "    </tr>\n",
              "    <tr>\n",
              "      <th>1</th>\n",
              "      <td>no</td>\n",
              "      <td>Male</td>\n",
              "      <td>0</td>\n",
              "      <td>No</td>\n",
              "      <td>No</td>\n",
              "      <td>9</td>\n",
              "      <td>Yes</td>\n",
              "      <td>Yes</td>\n",
              "      <td>DSL</td>\n",
              "      <td>No</td>\n",
              "      <td>No</td>\n",
              "      <td>No</td>\n",
              "      <td>No</td>\n",
              "      <td>No</td>\n",
              "      <td>Yes</td>\n",
              "      <td>Month-to-month</td>\n",
              "      <td>No</td>\n",
              "      <td>Mailed check</td>\n",
              "      <td>59.9</td>\n",
              "      <td>542.4</td>\n",
              "    </tr>\n",
              "    <tr>\n",
              "      <th>2</th>\n",
              "      <td>yes</td>\n",
              "      <td>Male</td>\n",
              "      <td>0</td>\n",
              "      <td>No</td>\n",
              "      <td>No</td>\n",
              "      <td>4</td>\n",
              "      <td>Yes</td>\n",
              "      <td>No</td>\n",
              "      <td>Fiber optic</td>\n",
              "      <td>No</td>\n",
              "      <td>No</td>\n",
              "      <td>Yes</td>\n",
              "      <td>No</td>\n",
              "      <td>No</td>\n",
              "      <td>No</td>\n",
              "      <td>Month-to-month</td>\n",
              "      <td>Yes</td>\n",
              "      <td>Electronic check</td>\n",
              "      <td>73.9</td>\n",
              "      <td>280.85</td>\n",
              "    </tr>\n",
              "    <tr>\n",
              "      <th>3</th>\n",
              "      <td>yes</td>\n",
              "      <td>Male</td>\n",
              "      <td>1</td>\n",
              "      <td>Yes</td>\n",
              "      <td>No</td>\n",
              "      <td>13</td>\n",
              "      <td>Yes</td>\n",
              "      <td>No</td>\n",
              "      <td>Fiber optic</td>\n",
              "      <td>No</td>\n",
              "      <td>Yes</td>\n",
              "      <td>Yes</td>\n",
              "      <td>No</td>\n",
              "      <td>Yes</td>\n",
              "      <td>Yes</td>\n",
              "      <td>Month-to-month</td>\n",
              "      <td>Yes</td>\n",
              "      <td>Electronic check</td>\n",
              "      <td>98.0</td>\n",
              "      <td>1237.85</td>\n",
              "    </tr>\n",
              "    <tr>\n",
              "      <th>4</th>\n",
              "      <td>yes</td>\n",
              "      <td>Female</td>\n",
              "      <td>1</td>\n",
              "      <td>Yes</td>\n",
              "      <td>No</td>\n",
              "      <td>3</td>\n",
              "      <td>Yes</td>\n",
              "      <td>No</td>\n",
              "      <td>Fiber optic</td>\n",
              "      <td>No</td>\n",
              "      <td>No</td>\n",
              "      <td>No</td>\n",
              "      <td>Yes</td>\n",
              "      <td>Yes</td>\n",
              "      <td>No</td>\n",
              "      <td>Month-to-month</td>\n",
              "      <td>Yes</td>\n",
              "      <td>Mailed check</td>\n",
              "      <td>83.9</td>\n",
              "      <td>267.4</td>\n",
              "    </tr>\n",
              "  </tbody>\n",
              "</table>\n",
              "</div>\n",
              "    <div class=\"colab-df-buttons\">\n",
              "\n",
              "  <div class=\"colab-df-container\">\n",
              "    <button class=\"colab-df-convert\" onclick=\"convertToInteractive('df-c3ff4287-d48c-41de-96c8-582a1fd743a8')\"\n",
              "            title=\"Convert this dataframe to an interactive table.\"\n",
              "            style=\"display:none;\">\n",
              "\n",
              "  <svg xmlns=\"http://www.w3.org/2000/svg\" height=\"24px\" viewBox=\"0 -960 960 960\">\n",
              "    <path d=\"M120-120v-720h720v720H120Zm60-500h600v-160H180v160Zm220 220h160v-160H400v160Zm0 220h160v-160H400v160ZM180-400h160v-160H180v160Zm440 0h160v-160H620v160ZM180-180h160v-160H180v160Zm440 0h160v-160H620v160Z\"/>\n",
              "  </svg>\n",
              "    </button>\n",
              "\n",
              "  <style>\n",
              "    .colab-df-container {\n",
              "      display:flex;\n",
              "      gap: 12px;\n",
              "    }\n",
              "\n",
              "    .colab-df-convert {\n",
              "      background-color: #E8F0FE;\n",
              "      border: none;\n",
              "      border-radius: 50%;\n",
              "      cursor: pointer;\n",
              "      display: none;\n",
              "      fill: #1967D2;\n",
              "      height: 32px;\n",
              "      padding: 0 0 0 0;\n",
              "      width: 32px;\n",
              "    }\n",
              "\n",
              "    .colab-df-convert:hover {\n",
              "      background-color: #E2EBFA;\n",
              "      box-shadow: 0px 1px 2px rgba(60, 64, 67, 0.3), 0px 1px 3px 1px rgba(60, 64, 67, 0.15);\n",
              "      fill: #174EA6;\n",
              "    }\n",
              "\n",
              "    .colab-df-buttons div {\n",
              "      margin-bottom: 4px;\n",
              "    }\n",
              "\n",
              "    [theme=dark] .colab-df-convert {\n",
              "      background-color: #3B4455;\n",
              "      fill: #D2E3FC;\n",
              "    }\n",
              "\n",
              "    [theme=dark] .colab-df-convert:hover {\n",
              "      background-color: #434B5C;\n",
              "      box-shadow: 0px 1px 3px 1px rgba(0, 0, 0, 0.15);\n",
              "      filter: drop-shadow(0px 1px 2px rgba(0, 0, 0, 0.3));\n",
              "      fill: #FFFFFF;\n",
              "    }\n",
              "  </style>\n",
              "\n",
              "    <script>\n",
              "      const buttonEl =\n",
              "        document.querySelector('#df-c3ff4287-d48c-41de-96c8-582a1fd743a8 button.colab-df-convert');\n",
              "      buttonEl.style.display =\n",
              "        google.colab.kernel.accessAllowed ? 'block' : 'none';\n",
              "\n",
              "      async function convertToInteractive(key) {\n",
              "        const element = document.querySelector('#df-c3ff4287-d48c-41de-96c8-582a1fd743a8');\n",
              "        const dataTable =\n",
              "          await google.colab.kernel.invokeFunction('convertToInteractive',\n",
              "                                                    [key], {});\n",
              "        if (!dataTable) return;\n",
              "\n",
              "        const docLinkHtml = 'Like what you see? Visit the ' +\n",
              "          '<a target=\"_blank\" href=https://colab.research.google.com/notebooks/data_table.ipynb>data table notebook</a>'\n",
              "          + ' to learn more about interactive tables.';\n",
              "        element.innerHTML = '';\n",
              "        dataTable['output_type'] = 'display_data';\n",
              "        await google.colab.output.renderOutput(dataTable, element);\n",
              "        const docLink = document.createElement('div');\n",
              "        docLink.innerHTML = docLinkHtml;\n",
              "        element.appendChild(docLink);\n",
              "      }\n",
              "    </script>\n",
              "  </div>\n",
              "\n",
              "\n",
              "    <div id=\"df-01f4c246-0eb8-48b0-a235-e28d3d93e162\">\n",
              "      <button class=\"colab-df-quickchart\" onclick=\"quickchart('df-01f4c246-0eb8-48b0-a235-e28d3d93e162')\"\n",
              "                title=\"Suggest charts\"\n",
              "                style=\"display:none;\">\n",
              "\n",
              "<svg xmlns=\"http://www.w3.org/2000/svg\" height=\"24px\"viewBox=\"0 0 24 24\"\n",
              "     width=\"24px\">\n",
              "    <g>\n",
              "        <path d=\"M19 3H5c-1.1 0-2 .9-2 2v14c0 1.1.9 2 2 2h14c1.1 0 2-.9 2-2V5c0-1.1-.9-2-2-2zM9 17H7v-7h2v7zm4 0h-2V7h2v10zm4 0h-2v-4h2v4z\"/>\n",
              "    </g>\n",
              "</svg>\n",
              "      </button>\n",
              "\n",
              "<style>\n",
              "  .colab-df-quickchart {\n",
              "      --bg-color: #E8F0FE;\n",
              "      --fill-color: #1967D2;\n",
              "      --hover-bg-color: #E2EBFA;\n",
              "      --hover-fill-color: #174EA6;\n",
              "      --disabled-fill-color: #AAA;\n",
              "      --disabled-bg-color: #DDD;\n",
              "  }\n",
              "\n",
              "  [theme=dark] .colab-df-quickchart {\n",
              "      --bg-color: #3B4455;\n",
              "      --fill-color: #D2E3FC;\n",
              "      --hover-bg-color: #434B5C;\n",
              "      --hover-fill-color: #FFFFFF;\n",
              "      --disabled-bg-color: #3B4455;\n",
              "      --disabled-fill-color: #666;\n",
              "  }\n",
              "\n",
              "  .colab-df-quickchart {\n",
              "    background-color: var(--bg-color);\n",
              "    border: none;\n",
              "    border-radius: 50%;\n",
              "    cursor: pointer;\n",
              "    display: none;\n",
              "    fill: var(--fill-color);\n",
              "    height: 32px;\n",
              "    padding: 0;\n",
              "    width: 32px;\n",
              "  }\n",
              "\n",
              "  .colab-df-quickchart:hover {\n",
              "    background-color: var(--hover-bg-color);\n",
              "    box-shadow: 0 1px 2px rgba(60, 64, 67, 0.3), 0 1px 3px 1px rgba(60, 64, 67, 0.15);\n",
              "    fill: var(--button-hover-fill-color);\n",
              "  }\n",
              "\n",
              "  .colab-df-quickchart-complete:disabled,\n",
              "  .colab-df-quickchart-complete:disabled:hover {\n",
              "    background-color: var(--disabled-bg-color);\n",
              "    fill: var(--disabled-fill-color);\n",
              "    box-shadow: none;\n",
              "  }\n",
              "\n",
              "  .colab-df-spinner {\n",
              "    border: 2px solid var(--fill-color);\n",
              "    border-color: transparent;\n",
              "    border-bottom-color: var(--fill-color);\n",
              "    animation:\n",
              "      spin 1s steps(1) infinite;\n",
              "  }\n",
              "\n",
              "  @keyframes spin {\n",
              "    0% {\n",
              "      border-color: transparent;\n",
              "      border-bottom-color: var(--fill-color);\n",
              "      border-left-color: var(--fill-color);\n",
              "    }\n",
              "    20% {\n",
              "      border-color: transparent;\n",
              "      border-left-color: var(--fill-color);\n",
              "      border-top-color: var(--fill-color);\n",
              "    }\n",
              "    30% {\n",
              "      border-color: transparent;\n",
              "      border-left-color: var(--fill-color);\n",
              "      border-top-color: var(--fill-color);\n",
              "      border-right-color: var(--fill-color);\n",
              "    }\n",
              "    40% {\n",
              "      border-color: transparent;\n",
              "      border-right-color: var(--fill-color);\n",
              "      border-top-color: var(--fill-color);\n",
              "    }\n",
              "    60% {\n",
              "      border-color: transparent;\n",
              "      border-right-color: var(--fill-color);\n",
              "    }\n",
              "    80% {\n",
              "      border-color: transparent;\n",
              "      border-right-color: var(--fill-color);\n",
              "      border-bottom-color: var(--fill-color);\n",
              "    }\n",
              "    90% {\n",
              "      border-color: transparent;\n",
              "      border-bottom-color: var(--fill-color);\n",
              "    }\n",
              "  }\n",
              "</style>\n",
              "\n",
              "      <script>\n",
              "        async function quickchart(key) {\n",
              "          const quickchartButtonEl =\n",
              "            document.querySelector('#' + key + ' button');\n",
              "          quickchartButtonEl.disabled = true;  // To prevent multiple clicks.\n",
              "          quickchartButtonEl.classList.add('colab-df-spinner');\n",
              "          try {\n",
              "            const charts = await google.colab.kernel.invokeFunction(\n",
              "                'suggestCharts', [key], {});\n",
              "          } catch (error) {\n",
              "            console.error('Error during call to suggestCharts:', error);\n",
              "          }\n",
              "          quickchartButtonEl.classList.remove('colab-df-spinner');\n",
              "          quickchartButtonEl.classList.add('colab-df-quickchart-complete');\n",
              "        }\n",
              "        (() => {\n",
              "          let quickchartButtonEl =\n",
              "            document.querySelector('#df-01f4c246-0eb8-48b0-a235-e28d3d93e162 button');\n",
              "          quickchartButtonEl.style.display =\n",
              "            google.colab.kernel.accessAllowed ? 'block' : 'none';\n",
              "        })();\n",
              "      </script>\n",
              "    </div>\n",
              "\n",
              "    </div>\n",
              "  </div>\n"
            ],
            "application/vnd.google.colaboratory.intrinsic+json": {
              "type": "dataframe",
              "variable_name": "dados",
              "summary": "{\n  \"name\": \"dados\",\n  \"rows\": 7043,\n  \"fields\": [\n    {\n      \"column\": \"Churn\",\n      \"properties\": {\n        \"dtype\": \"category\",\n        \"num_unique_values\": 2,\n        \"samples\": [\n          \"yes\",\n          \"no\"\n        ],\n        \"semantic_type\": \"\",\n        \"description\": \"\"\n      }\n    },\n    {\n      \"column\": \"gender\",\n      \"properties\": {\n        \"dtype\": \"category\",\n        \"num_unique_values\": 2,\n        \"samples\": [\n          \"Male\",\n          \"Female\"\n        ],\n        \"semantic_type\": \"\",\n        \"description\": \"\"\n      }\n    },\n    {\n      \"column\": \"SeniorCitizen\",\n      \"properties\": {\n        \"dtype\": \"number\",\n        \"std\": 0,\n        \"min\": 0,\n        \"max\": 1,\n        \"num_unique_values\": 2,\n        \"samples\": [\n          1,\n          0\n        ],\n        \"semantic_type\": \"\",\n        \"description\": \"\"\n      }\n    },\n    {\n      \"column\": \"Partner\",\n      \"properties\": {\n        \"dtype\": \"category\",\n        \"num_unique_values\": 2,\n        \"samples\": [\n          \"No\",\n          \"Yes\"\n        ],\n        \"semantic_type\": \"\",\n        \"description\": \"\"\n      }\n    },\n    {\n      \"column\": \"Dependents\",\n      \"properties\": {\n        \"dtype\": \"category\",\n        \"num_unique_values\": 2,\n        \"samples\": [\n          \"No\",\n          \"Yes\"\n        ],\n        \"semantic_type\": \"\",\n        \"description\": \"\"\n      }\n    },\n    {\n      \"column\": \"tenure\",\n      \"properties\": {\n        \"dtype\": \"number\",\n        \"std\": 24,\n        \"min\": 0,\n        \"max\": 72,\n        \"num_unique_values\": 73,\n        \"samples\": [\n          71,\n          53\n        ],\n        \"semantic_type\": \"\",\n        \"description\": \"\"\n      }\n    },\n    {\n      \"column\": \"PhoneService\",\n      \"properties\": {\n        \"dtype\": \"category\",\n        \"num_unique_values\": 2,\n        \"samples\": [\n          \"No\",\n          \"Yes\"\n        ],\n        \"semantic_type\": \"\",\n        \"description\": \"\"\n      }\n    },\n    {\n      \"column\": \"MultipleLines\",\n      \"properties\": {\n        \"dtype\": \"category\",\n        \"num_unique_values\": 3,\n        \"samples\": [\n          \"No\",\n          \"Yes\"\n        ],\n        \"semantic_type\": \"\",\n        \"description\": \"\"\n      }\n    },\n    {\n      \"column\": \"InternetService\",\n      \"properties\": {\n        \"dtype\": \"category\",\n        \"num_unique_values\": 3,\n        \"samples\": [\n          \"DSL\",\n          \"Fiber optic\"\n        ],\n        \"semantic_type\": \"\",\n        \"description\": \"\"\n      }\n    },\n    {\n      \"column\": \"OnlineSecurity\",\n      \"properties\": {\n        \"dtype\": \"category\",\n        \"num_unique_values\": 3,\n        \"samples\": [\n          \"No\",\n          \"Yes\"\n        ],\n        \"semantic_type\": \"\",\n        \"description\": \"\"\n      }\n    },\n    {\n      \"column\": \"OnlineBackup\",\n      \"properties\": {\n        \"dtype\": \"category\",\n        \"num_unique_values\": 3,\n        \"samples\": [\n          \"Yes\",\n          \"No\"\n        ],\n        \"semantic_type\": \"\",\n        \"description\": \"\"\n      }\n    },\n    {\n      \"column\": \"DeviceProtection\",\n      \"properties\": {\n        \"dtype\": \"category\",\n        \"num_unique_values\": 3,\n        \"samples\": [\n          \"No\",\n          \"Yes\"\n        ],\n        \"semantic_type\": \"\",\n        \"description\": \"\"\n      }\n    },\n    {\n      \"column\": \"TechSupport\",\n      \"properties\": {\n        \"dtype\": \"category\",\n        \"num_unique_values\": 3,\n        \"samples\": [\n          \"Yes\",\n          \"No\"\n        ],\n        \"semantic_type\": \"\",\n        \"description\": \"\"\n      }\n    },\n    {\n      \"column\": \"StreamingTV\",\n      \"properties\": {\n        \"dtype\": \"category\",\n        \"num_unique_values\": 3,\n        \"samples\": [\n          \"Yes\",\n          \"No\"\n        ],\n        \"semantic_type\": \"\",\n        \"description\": \"\"\n      }\n    },\n    {\n      \"column\": \"StreamingMovies\",\n      \"properties\": {\n        \"dtype\": \"category\",\n        \"num_unique_values\": 3,\n        \"samples\": [\n          \"No\",\n          \"Yes\"\n        ],\n        \"semantic_type\": \"\",\n        \"description\": \"\"\n      }\n    },\n    {\n      \"column\": \"Contract\",\n      \"properties\": {\n        \"dtype\": \"category\",\n        \"num_unique_values\": 3,\n        \"samples\": [\n          \"One year\",\n          \"Month-to-month\"\n        ],\n        \"semantic_type\": \"\",\n        \"description\": \"\"\n      }\n    },\n    {\n      \"column\": \"PaperlessBilling\",\n      \"properties\": {\n        \"dtype\": \"category\",\n        \"num_unique_values\": 2,\n        \"samples\": [\n          \"No\",\n          \"Yes\"\n        ],\n        \"semantic_type\": \"\",\n        \"description\": \"\"\n      }\n    },\n    {\n      \"column\": \"PaymentMethod\",\n      \"properties\": {\n        \"dtype\": \"category\",\n        \"num_unique_values\": 4,\n        \"samples\": [\n          \"Electronic check\",\n          \"Bank transfer (automatic)\"\n        ],\n        \"semantic_type\": \"\",\n        \"description\": \"\"\n      }\n    },\n    {\n      \"column\": \"Charges.Monthly\",\n      \"properties\": {\n        \"dtype\": \"number\",\n        \"std\": 30.09004709767855,\n        \"min\": 18.25,\n        \"max\": 118.75,\n        \"num_unique_values\": 1585,\n        \"samples\": [\n          104.15,\n          47.85\n        ],\n        \"semantic_type\": \"\",\n        \"description\": \"\"\n      }\n    },\n    {\n      \"column\": \"Charges.Total\",\n      \"properties\": {\n        \"dtype\": \"string\",\n        \"num_unique_values\": 6531,\n        \"samples\": [\n          \"7732.65\",\n          \"4847.05\"\n        ],\n        \"semantic_type\": \"\",\n        \"description\": \"\"\n      }\n    }\n  ]\n}"
            }
          },
          "metadata": {},
          "execution_count": 139
        }
      ]
    },
    {
      "cell_type": "markdown",
      "source": [
        "## Separando as váriaveis"
      ],
      "metadata": {
        "id": "jlSN8Wn2UfgN"
      }
    },
    {
      "cell_type": "code",
      "source": [
        "y = dados['Churn']\n",
        "X = dados.drop(['Churn'], axis=1)"
      ],
      "metadata": {
        "id": "8NETtTfqBEBm"
      },
      "execution_count": 140,
      "outputs": []
    },
    {
      "cell_type": "markdown",
      "source": [
        "## Transformar a variável alvo"
      ],
      "metadata": {
        "id": "PcElsfEDEvoG"
      }
    },
    {
      "cell_type": "code",
      "source": [
        "from sklearn.preprocessing import LabelEncoder"
      ],
      "metadata": {
        "id": "kUFs2TLiEvaU"
      },
      "execution_count": 141,
      "outputs": []
    },
    {
      "cell_type": "code",
      "source": [
        "label_encoder = LabelEncoder()"
      ],
      "metadata": {
        "id": "t_CCqWpfE3MV"
      },
      "execution_count": 142,
      "outputs": []
    },
    {
      "cell_type": "code",
      "source": [
        "y_encoded = label_encoder.fit_transform(y)"
      ],
      "metadata": {
        "id": "hXkZ1q7sE6KN"
      },
      "execution_count": 143,
      "outputs": []
    },
    {
      "cell_type": "code",
      "source": [
        "y = pd.Series(y_encoded, index=y.index, name='Churn')"
      ],
      "metadata": {
        "id": "tBNOHEI_QKrP"
      },
      "execution_count": 144,
      "outputs": []
    },
    {
      "cell_type": "code",
      "source": [
        "y.unique()"
      ],
      "metadata": {
        "colab": {
          "base_uri": "https://localhost:8080/"
        },
        "id": "YtGk2vXXPUvV",
        "outputId": "02acc065-471a-4e3e-900f-c9ecd6533162"
      },
      "execution_count": 145,
      "outputs": [
        {
          "output_type": "execute_result",
          "data": {
            "text/plain": [
              "array([0, 1])"
            ]
          },
          "metadata": {},
          "execution_count": 145
        }
      ]
    },
    {
      "cell_type": "markdown",
      "source": [
        "## Transformando as variáveis explicativas"
      ],
      "metadata": {
        "id": "1eO5sIGnFASy"
      }
    },
    {
      "cell_type": "code",
      "source": [
        "from sklearn.preprocessing import StandardScaler"
      ],
      "metadata": {
        "id": "CLfoT1dsMZZY"
      },
      "execution_count": 146,
      "outputs": []
    },
    {
      "cell_type": "markdown",
      "source": [
        "### Trabalhando colunas binárias"
      ],
      "metadata": {
        "id": "U8yPIDtAUvlL"
      }
    },
    {
      "cell_type": "code",
      "source": [
        "colunas_binarias = [\n",
        "    'gender', 'Partner', 'Dependents',\n",
        "    'PhoneService', 'PaperlessBilling'\n",
        "]\n",
        "le = LabelEncoder()\n",
        "for coluna in colunas_binarias:\n",
        "    X[coluna] = le.fit_transform(X[coluna])\n"
      ],
      "metadata": {
        "id": "zaZsHXJxL0v0"
      },
      "execution_count": 147,
      "outputs": []
    },
    {
      "cell_type": "markdown",
      "source": [
        "###Trabalhando colunas multi-Categoricas"
      ],
      "metadata": {
        "id": "U92c3r2mVAt4"
      }
    },
    {
      "cell_type": "code",
      "source": [
        "colunas_multi_categoria = [\n",
        "    'MultipleLines', 'InternetService', 'OnlineSecurity',\n",
        "    'OnlineBackup', 'DeviceProtection', 'TechSupport',\n",
        "    'StreamingTV', 'StreamingMovies', 'Contract',\n",
        "    'PaymentMethod'\n",
        "]\n",
        "X = pd.get_dummies(X, columns=colunas_multi_categoria, drop_first=True, dtype=int)"
      ],
      "metadata": {
        "id": "KcqyGQDtKFxT"
      },
      "execution_count": 148,
      "outputs": []
    },
    {
      "cell_type": "markdown",
      "source": [
        "### Trabalhando as colunas numéricas"
      ],
      "metadata": {
        "id": "w8yuuGNZVPuY"
      }
    },
    {
      "cell_type": "code",
      "source": [
        "colunas_numericas_para_escalar = ['tenure', 'Charges.Monthly', 'Charges.Total']\n",
        "for coluna in colunas_numericas_para_escalar:\n",
        "    X[coluna] = X[coluna].replace(' ', pd.NA)\n",
        "    X[coluna] = pd.to_numeric(X[coluna], errors='coerce')\n",
        "    mediana =  X[coluna].median()\n",
        "    X[coluna].fillna(mediana, inplace=True)\n",
        "\n",
        "scaler = StandardScaler()\n",
        "X[colunas_numericas_para_escalar] = scaler.fit_transform(X[colunas_numericas_para_escalar])"
      ],
      "metadata": {
        "colab": {
          "base_uri": "https://localhost:8080/"
        },
        "collapsed": true,
        "id": "sm1I5EuOOaAJ",
        "outputId": "b9408a7a-b5e4-4a59-8e03-77be961b0741"
      },
      "execution_count": 149,
      "outputs": [
        {
          "output_type": "stream",
          "name": "stderr",
          "text": [
            "/tmp/ipython-input-3450218119.py:6: FutureWarning: A value is trying to be set on a copy of a DataFrame or Series through chained assignment using an inplace method.\n",
            "The behavior will change in pandas 3.0. This inplace method will never work because the intermediate object on which we are setting values always behaves as a copy.\n",
            "\n",
            "For example, when doing 'df[col].method(value, inplace=True)', try using 'df.method({col: value}, inplace=True)' or df[col] = df[col].method(value) instead, to perform the operation inplace on the original object.\n",
            "\n",
            "\n",
            "  X[coluna].fillna(mediana, inplace=True)\n"
          ]
        }
      ]
    },
    {
      "cell_type": "code",
      "source": [
        "colunas_numericas_para_escalar = ['tenure', 'Charges.Monthly', 'Charges.Total']\n",
        "scaler = StandardScaler()\n",
        "X[colunas_numericas_para_escalar] = scaler.fit_transform(X[colunas_numericas_para_escalar])"
      ],
      "metadata": {
        "id": "FzruUwTWNFdb"
      },
      "execution_count": 150,
      "outputs": []
    },
    {
      "cell_type": "markdown",
      "source": [
        "###Verificando se todos os dados foram 'tratados'"
      ],
      "metadata": {
        "id": "BxNr6nP1V5TM"
      }
    },
    {
      "cell_type": "code",
      "source": [
        "X.info()"
      ],
      "metadata": {
        "colab": {
          "base_uri": "https://localhost:8080/"
        },
        "collapsed": true,
        "id": "MoKJT3fROFmL",
        "outputId": "0baa27e0-848e-4029-cc7e-909ef5ba4f69"
      },
      "execution_count": 151,
      "outputs": [
        {
          "output_type": "stream",
          "name": "stdout",
          "text": [
            "<class 'pandas.core.frame.DataFrame'>\n",
            "RangeIndex: 7043 entries, 0 to 7042\n",
            "Data columns (total 30 columns):\n",
            " #   Column                                 Non-Null Count  Dtype  \n",
            "---  ------                                 --------------  -----  \n",
            " 0   gender                                 7043 non-null   int64  \n",
            " 1   SeniorCitizen                          7043 non-null   int64  \n",
            " 2   Partner                                7043 non-null   int64  \n",
            " 3   Dependents                             7043 non-null   int64  \n",
            " 4   tenure                                 7043 non-null   float64\n",
            " 5   PhoneService                           7043 non-null   int64  \n",
            " 6   PaperlessBilling                       7043 non-null   int64  \n",
            " 7   Charges.Monthly                        7043 non-null   float64\n",
            " 8   Charges.Total                          7043 non-null   float64\n",
            " 9   MultipleLines_No phone service         7043 non-null   int64  \n",
            " 10  MultipleLines_Yes                      7043 non-null   int64  \n",
            " 11  InternetService_Fiber optic            7043 non-null   int64  \n",
            " 12  InternetService_No                     7043 non-null   int64  \n",
            " 13  OnlineSecurity_No internet service     7043 non-null   int64  \n",
            " 14  OnlineSecurity_Yes                     7043 non-null   int64  \n",
            " 15  OnlineBackup_No internet service       7043 non-null   int64  \n",
            " 16  OnlineBackup_Yes                       7043 non-null   int64  \n",
            " 17  DeviceProtection_No internet service   7043 non-null   int64  \n",
            " 18  DeviceProtection_Yes                   7043 non-null   int64  \n",
            " 19  TechSupport_No internet service        7043 non-null   int64  \n",
            " 20  TechSupport_Yes                        7043 non-null   int64  \n",
            " 21  StreamingTV_No internet service        7043 non-null   int64  \n",
            " 22  StreamingTV_Yes                        7043 non-null   int64  \n",
            " 23  StreamingMovies_No internet service    7043 non-null   int64  \n",
            " 24  StreamingMovies_Yes                    7043 non-null   int64  \n",
            " 25  Contract_One year                      7043 non-null   int64  \n",
            " 26  Contract_Two year                      7043 non-null   int64  \n",
            " 27  PaymentMethod_Credit card (automatic)  7043 non-null   int64  \n",
            " 28  PaymentMethod_Electronic check         7043 non-null   int64  \n",
            " 29  PaymentMethod_Mailed check             7043 non-null   int64  \n",
            "dtypes: float64(3), int64(27)\n",
            "memory usage: 1.6 MB\n"
          ]
        }
      ]
    },
    {
      "cell_type": "code",
      "source": [
        "for coluna in X.columns:\n",
        "  print(f'{coluna}: {X[coluna].unique()}')"
      ],
      "metadata": {
        "colab": {
          "base_uri": "https://localhost:8080/"
        },
        "collapsed": true,
        "id": "s6Xzg3IdI2T4",
        "outputId": "ce2d7f46-9847-4dbc-cae9-f8872d720d36"
      },
      "execution_count": 152,
      "outputs": [
        {
          "output_type": "stream",
          "name": "stdout",
          "text": [
            "gender: [0 1]\n",
            "SeniorCitizen: [0 1]\n",
            "Partner: [1 0]\n",
            "Dependents: [1 0]\n",
            "tenure: [-0.95168167 -1.15528349 -0.78880022 -1.19600386  1.57298088  1.24721797\n",
            " -1.0331224   1.32865869  0.88073469  1.61370124 -1.11456313  0.96217542\n",
            "  0.06632742 -1.27744458  0.51425142  0.71785324 -0.38159658  0.92145506\n",
            " -0.25943549  1.49154015  0.18848851  0.67713287  1.36937906  1.41009942\n",
            " -0.50375767  0.43281069  1.08433651 -0.82952058 -0.21871513 -1.23672422\n",
            " -0.30015585 -0.1372744  -0.74807986  0.10704778  1.28793833  0.26992924\n",
            "  0.3106496  -0.87024095 -1.07384277 -0.09655404  1.53226051  1.00289578\n",
            "  1.04361615 -0.66663913 -0.01511331  0.02560706 -0.91096131 -0.46303731\n",
            "  1.16577724 -0.70735949  0.47353106 -0.42231695 -0.34087622 -0.54447804\n",
            "  0.59569215  1.2064976   0.55497178  0.79929397 -0.99240204  1.12505688\n",
            "  0.63641251 -0.17799476  0.35136997  0.84001433  1.45081979 -0.05583367\n",
            "  0.14776815 -0.62591876 -0.5851984   0.7585736   0.22920887  0.39209033\n",
            " -1.31816495]\n",
            "PhoneService: [1 0]\n",
            "PaperlessBilling: [1 0]\n",
            "Charges.Monthly: [ 0.02786194 -0.16158292  0.30372024 ...  0.89698177  0.13421695\n",
            "  0.1026428 ]\n",
            "Charges.Total: [-0.74549017 -0.76796149 -0.88343052 ... -0.6794448   1.03559364\n",
            "  0.6294102 ]\n",
            "MultipleLines_No phone service: [0 1]\n",
            "MultipleLines_Yes: [0 1]\n",
            "InternetService_Fiber optic: [0 1]\n",
            "InternetService_No: [0 1]\n",
            "OnlineSecurity_No internet service: [0 1]\n",
            "OnlineSecurity_Yes: [0 1]\n",
            "OnlineBackup_No internet service: [0 1]\n",
            "OnlineBackup_Yes: [1 0]\n",
            "DeviceProtection_No internet service: [0 1]\n",
            "DeviceProtection_Yes: [0 1]\n",
            "TechSupport_No internet service: [0 1]\n",
            "TechSupport_Yes: [1 0]\n",
            "StreamingTV_No internet service: [0 1]\n",
            "StreamingTV_Yes: [1 0]\n",
            "StreamingMovies_No internet service: [0 1]\n",
            "StreamingMovies_Yes: [0 1]\n",
            "Contract_One year: [1 0]\n",
            "Contract_Two year: [0 1]\n",
            "PaymentMethod_Credit card (automatic): [0 1]\n",
            "PaymentMethod_Electronic check: [0 1]\n",
            "PaymentMethod_Mailed check: [1 0]\n"
          ]
        }
      ]
    },
    {
      "cell_type": "markdown",
      "source": [
        "#Treinando o modelo"
      ],
      "metadata": {
        "id": "iPyWbLRlM1kP"
      }
    },
    {
      "cell_type": "code",
      "source": [
        "from sklearn.model_selection import train_test_split\n",
        "\n",
        "# Divida os dados em 80% para treino e 20% para teste\n",
        "X_treino, X_teste, y_treino, y_teste = train_test_split(X, y, test_size=0.2, random_state=42)"
      ],
      "metadata": {
        "id": "uydz7x2TNRtW"
      },
      "execution_count": 153,
      "outputs": []
    },
    {
      "cell_type": "markdown",
      "source": [
        "###Verificando a correlação entre os dados"
      ],
      "metadata": {
        "id": "q8ROWIF5WFHU"
      }
    },
    {
      "cell_type": "code",
      "source": [
        "matriz_correlacao_X = X.corr()\n",
        "print(matriz_correlacao_X)"
      ],
      "metadata": {
        "colab": {
          "base_uri": "https://localhost:8080/"
        },
        "collapsed": true,
        "id": "K_PPdHRkRHLc",
        "outputId": "d0fb9eab-1310-440d-ed04-37ba92f5872f"
      },
      "execution_count": 154,
      "outputs": [
        {
          "output_type": "stream",
          "name": "stdout",
          "text": [
            "                                         gender  SeniorCitizen   Partner  \\\n",
            "gender                                 1.000000      -0.001874 -0.001808   \n",
            "SeniorCitizen                         -0.001874       1.000000  0.016479   \n",
            "Partner                               -0.001808       0.016479  1.000000   \n",
            "Dependents                             0.010517      -0.211185  0.452676   \n",
            "tenure                                 0.005106       0.016567  0.379697   \n",
            "PhoneService                          -0.006488       0.008576  0.017706   \n",
            "PaperlessBilling                      -0.011754       0.156530 -0.014877   \n",
            "Charges.Monthly                       -0.014569       0.220173  0.096848   \n",
            "Charges.Total                         -0.000002       0.102652  0.318364   \n",
            "MultipleLines_No phone service         0.006488      -0.008576 -0.017706   \n",
            "MultipleLines_Yes                     -0.008414       0.142948  0.142057   \n",
            "InternetService_Fiber optic           -0.011286       0.255338  0.000304   \n",
            "InternetService_No                     0.006026      -0.182742  0.000615   \n",
            "OnlineSecurity_No internet service     0.006026      -0.182742  0.000615   \n",
            "OnlineSecurity_Yes                    -0.017021      -0.038653  0.143106   \n",
            "OnlineBackup_No internet service       0.006026      -0.182742  0.000615   \n",
            "OnlineBackup_Yes                      -0.013773       0.066572  0.141498   \n",
            "DeviceProtection_No internet service   0.006026      -0.182742  0.000615   \n",
            "DeviceProtection_Yes                  -0.002105       0.059428  0.153786   \n",
            "TechSupport_No internet service        0.006026      -0.182742  0.000615   \n",
            "TechSupport_Yes                       -0.009212      -0.060625  0.119999   \n",
            "StreamingTV_No internet service        0.006026      -0.182742  0.000615   \n",
            "StreamingTV_Yes                       -0.008393       0.105378  0.124666   \n",
            "StreamingMovies_No internet service    0.006026      -0.182742  0.000615   \n",
            "StreamingMovies_Yes                   -0.010487       0.120176  0.117412   \n",
            "Contract_One year                      0.008026      -0.046262  0.082783   \n",
            "Contract_Two year                     -0.003695      -0.117000  0.248091   \n",
            "PaymentMethod_Credit card (automatic)  0.001215      -0.024135  0.082029   \n",
            "PaymentMethod_Electronic check         0.000752       0.171718 -0.083852   \n",
            "PaymentMethod_Mailed check             0.013744      -0.153477 -0.095125   \n",
            "\n",
            "                                       Dependents    tenure  PhoneService  \\\n",
            "gender                                   0.010517  0.005106     -0.006488   \n",
            "SeniorCitizen                           -0.211185  0.016567      0.008576   \n",
            "Partner                                  0.452676  0.379697      0.017706   \n",
            "Dependents                               1.000000  0.159712     -0.001762   \n",
            "tenure                                   0.159712  1.000000      0.008448   \n",
            "PhoneService                            -0.001762  0.008448      1.000000   \n",
            "PaperlessBilling                        -0.111377  0.006152      0.016505   \n",
            "Charges.Monthly                         -0.113890  0.247900      0.247398   \n",
            "Charges.Total                            0.063593  0.825464      0.113013   \n",
            "MultipleLines_No phone service           0.001762 -0.008448     -1.000000   \n",
            "MultipleLines_Yes                       -0.024526  0.331941      0.279690   \n",
            "InternetService_Fiber optic             -0.165818  0.019720      0.289999   \n",
            "InternetService_No                       0.139812 -0.039062      0.172209   \n",
            "OnlineSecurity_No internet service       0.139812 -0.039062      0.172209   \n",
            "OnlineSecurity_Yes                       0.080972  0.327203     -0.092893   \n",
            "OnlineBackup_No internet service         0.139812 -0.039062      0.172209   \n",
            "OnlineBackup_Yes                         0.023671  0.360277     -0.052312   \n",
            "DeviceProtection_No internet service     0.139812 -0.039062      0.172209   \n",
            "DeviceProtection_Yes                     0.013963  0.360653     -0.071227   \n",
            "TechSupport_No internet service          0.139812 -0.039062      0.172209   \n",
            "TechSupport_Yes                          0.063268  0.324221     -0.096340   \n",
            "StreamingTV_No internet service          0.139812 -0.039062      0.172209   \n",
            "StreamingTV_Yes                         -0.016558  0.279756     -0.022574   \n",
            "StreamingMovies_No internet service      0.139812 -0.039062      0.172209   \n",
            "StreamingMovies_Yes                     -0.039741  0.286111     -0.032959   \n",
            "Contract_One year                        0.068368  0.202570     -0.002791   \n",
            "Contract_Two year                        0.204613  0.558533      0.003519   \n",
            "PaymentMethod_Credit card (automatic)    0.060267  0.233006     -0.007721   \n",
            "PaymentMethod_Electronic check          -0.150642 -0.208363      0.003062   \n",
            "PaymentMethod_Mailed check               0.059071 -0.233852     -0.003319   \n",
            "\n",
            "                                       PaperlessBilling  Charges.Monthly  \\\n",
            "gender                                        -0.011754        -0.014569   \n",
            "SeniorCitizen                                  0.156530         0.220173   \n",
            "Partner                                       -0.014877         0.096848   \n",
            "Dependents                                    -0.111377        -0.113890   \n",
            "tenure                                         0.006152         0.247900   \n",
            "PhoneService                                   0.016505         0.247398   \n",
            "PaperlessBilling                               1.000000         0.352150   \n",
            "Charges.Monthly                                0.352150         1.000000   \n",
            "Charges.Total                                  0.158055         0.650864   \n",
            "MultipleLines_No phone service                -0.016505        -0.247398   \n",
            "MultipleLines_Yes                              0.163530         0.490434   \n",
            "InternetService_Fiber optic                    0.326853         0.787066   \n",
            "InternetService_No                            -0.321013        -0.763557   \n",
            "OnlineSecurity_No internet service            -0.321013        -0.763557   \n",
            "OnlineSecurity_Yes                            -0.003636         0.296594   \n",
            "OnlineBackup_No internet service              -0.321013        -0.763557   \n",
            "OnlineBackup_Yes                               0.126735         0.441780   \n",
            "DeviceProtection_No internet service          -0.321013        -0.763557   \n",
            "DeviceProtection_Yes                           0.103797         0.482692   \n",
            "TechSupport_No internet service               -0.321013        -0.763557   \n",
            "TechSupport_Yes                                0.037880         0.338304   \n",
            "StreamingTV_No internet service               -0.321013        -0.763557   \n",
            "StreamingTV_Yes                                0.223841         0.629603   \n",
            "StreamingMovies_No internet service           -0.321013        -0.763557   \n",
            "StreamingMovies_Yes                            0.211716         0.627429   \n",
            "Contract_One year                             -0.051391         0.004904   \n",
            "Contract_Two year                             -0.147889        -0.074681   \n",
            "PaymentMethod_Credit card (automatic)         -0.013589         0.030550   \n",
            "PaymentMethod_Electronic check                 0.208865         0.271625   \n",
            "PaymentMethod_Mailed check                    -0.205398        -0.377437   \n",
            "\n",
            "                                       Charges.Total  \\\n",
            "gender                                     -0.000002   \n",
            "SeniorCitizen                               0.102652   \n",
            "Partner                                     0.318364   \n",
            "Dependents                                  0.063593   \n",
            "tenure                                      0.825464   \n",
            "PhoneService                                0.113013   \n",
            "PaperlessBilling                            0.158055   \n",
            "Charges.Monthly                             0.650864   \n",
            "Charges.Total                               1.000000   \n",
            "MultipleLines_No phone service             -0.113013   \n",
            "MultipleLines_Yes                           0.468705   \n",
            "InternetService_Fiber optic                 0.361045   \n",
            "InternetService_No                         -0.374706   \n",
            "OnlineSecurity_No internet service         -0.374706   \n",
            "OnlineSecurity_Yes                          0.412091   \n",
            "OnlineBackup_No internet service           -0.374706   \n",
            "OnlineBackup_Yes                            0.509607   \n",
            "DeviceProtection_No internet service       -0.374706   \n",
            "DeviceProtection_Yes                        0.522374   \n",
            "TechSupport_No internet service            -0.374706   \n",
            "TechSupport_Yes                             0.432329   \n",
            "StreamingTV_No internet service            -0.374706   \n",
            "StreamingTV_Yes                             0.515279   \n",
            "StreamingMovies_No internet service        -0.374706   \n",
            "StreamingMovies_Yes                         0.519884   \n",
            "Contract_One year                           0.170649   \n",
            "Contract_Two year                           0.356226   \n",
            "PaymentMethod_Credit card (automatic)       0.182745   \n",
            "PaymentMethod_Electronic check             -0.059971   \n",
            "PaymentMethod_Mailed check                 -0.294814   \n",
            "\n",
            "                                       MultipleLines_No phone service  ...  \\\n",
            "gender                                                       0.006488  ...   \n",
            "SeniorCitizen                                               -0.008576  ...   \n",
            "Partner                                                     -0.017706  ...   \n",
            "Dependents                                                   0.001762  ...   \n",
            "tenure                                                      -0.008448  ...   \n",
            "PhoneService                                                -1.000000  ...   \n",
            "PaperlessBilling                                            -0.016505  ...   \n",
            "Charges.Monthly                                             -0.247398  ...   \n",
            "Charges.Total                                               -0.113013  ...   \n",
            "MultipleLines_No phone service                               1.000000  ...   \n",
            "MultipleLines_Yes                                           -0.279690  ...   \n",
            "InternetService_Fiber optic                                 -0.289999  ...   \n",
            "InternetService_No                                          -0.172209  ...   \n",
            "OnlineSecurity_No internet service                          -0.172209  ...   \n",
            "OnlineSecurity_Yes                                           0.092893  ...   \n",
            "OnlineBackup_No internet service                            -0.172209  ...   \n",
            "OnlineBackup_Yes                                             0.052312  ...   \n",
            "DeviceProtection_No internet service                        -0.172209  ...   \n",
            "DeviceProtection_Yes                                         0.071227  ...   \n",
            "TechSupport_No internet service                             -0.172209  ...   \n",
            "TechSupport_Yes                                              0.096340  ...   \n",
            "StreamingTV_No internet service                             -0.172209  ...   \n",
            "StreamingTV_Yes                                              0.022574  ...   \n",
            "StreamingMovies_No internet service                         -0.172209  ...   \n",
            "StreamingMovies_Yes                                          0.032959  ...   \n",
            "Contract_One year                                            0.002791  ...   \n",
            "Contract_Two year                                           -0.003519  ...   \n",
            "PaymentMethod_Credit card (automatic)                        0.007721  ...   \n",
            "PaymentMethod_Electronic check                              -0.003062  ...   \n",
            "PaymentMethod_Mailed check                                   0.003319  ...   \n",
            "\n",
            "                                       TechSupport_Yes  \\\n",
            "gender                                       -0.009212   \n",
            "SeniorCitizen                                -0.060625   \n",
            "Partner                                       0.119999   \n",
            "Dependents                                    0.063268   \n",
            "tenure                                        0.324221   \n",
            "PhoneService                                 -0.096340   \n",
            "PaperlessBilling                              0.037880   \n",
            "Charges.Monthly                               0.338304   \n",
            "Charges.Total                                 0.432329   \n",
            "MultipleLines_No phone service                0.096340   \n",
            "MultipleLines_Yes                             0.100571   \n",
            "InternetService_Fiber optic                  -0.020492   \n",
            "InternetService_No                           -0.336298   \n",
            "OnlineSecurity_No internet service           -0.336298   \n",
            "OnlineSecurity_Yes                            0.354931   \n",
            "OnlineBackup_No internet service             -0.336298   \n",
            "OnlineBackup_Yes                              0.294233   \n",
            "DeviceProtection_No internet service         -0.336298   \n",
            "DeviceProtection_Yes                          0.333313   \n",
            "TechSupport_No internet service              -0.336298   \n",
            "TechSupport_Yes                               1.000000   \n",
            "StreamingTV_No internet service              -0.336298   \n",
            "StreamingTV_Yes                               0.278070   \n",
            "StreamingMovies_No internet service          -0.336298   \n",
            "StreamingMovies_Yes                           0.279358   \n",
            "Contract_One year                             0.095775   \n",
            "Contract_Two year                             0.240824   \n",
            "PaymentMethod_Credit card (automatic)         0.117272   \n",
            "PaymentMethod_Electronic check               -0.114839   \n",
            "PaymentMethod_Mailed check                   -0.085509   \n",
            "\n",
            "                                       StreamingTV_No internet service  \\\n",
            "gender                                                        0.006026   \n",
            "SeniorCitizen                                                -0.182742   \n",
            "Partner                                                       0.000615   \n",
            "Dependents                                                    0.139812   \n",
            "tenure                                                       -0.039062   \n",
            "PhoneService                                                  0.172209   \n",
            "PaperlessBilling                                             -0.321013   \n",
            "Charges.Monthly                                              -0.763557   \n",
            "Charges.Total                                                -0.374706   \n",
            "MultipleLines_No phone service                               -0.172209   \n",
            "MultipleLines_Yes                                            -0.210564   \n",
            "InternetService_Fiber optic                                  -0.465793   \n",
            "InternetService_No                                            1.000000   \n",
            "OnlineSecurity_No internet service                            1.000000   \n",
            "OnlineSecurity_Yes                                           -0.333403   \n",
            "OnlineBackup_No internet service                              1.000000   \n",
            "OnlineBackup_Yes                                             -0.381593   \n",
            "DeviceProtection_No internet service                          1.000000   \n",
            "DeviceProtection_Yes                                         -0.380754   \n",
            "TechSupport_No internet service                               1.000000   \n",
            "TechSupport_Yes                                              -0.336298   \n",
            "StreamingTV_No internet service                               1.000000   \n",
            "StreamingTV_Yes                                              -0.415552   \n",
            "StreamingMovies_No internet service                           1.000000   \n",
            "StreamingMovies_Yes                                          -0.418675   \n",
            "Contract_One year                                             0.038004   \n",
            "Contract_Two year                                             0.218278   \n",
            "PaymentMethod_Credit card (automatic)                         0.001030   \n",
            "PaymentMethod_Electronic check                               -0.284917   \n",
            "PaymentMethod_Mailed check                                    0.321361   \n",
            "\n",
            "                                       StreamingTV_Yes  \\\n",
            "gender                                       -0.008393   \n",
            "SeniorCitizen                                 0.105378   \n",
            "Partner                                       0.124666   \n",
            "Dependents                                   -0.016558   \n",
            "tenure                                        0.279756   \n",
            "PhoneService                                 -0.022574   \n",
            "PaperlessBilling                              0.223841   \n",
            "Charges.Monthly                               0.629603   \n",
            "Charges.Total                                 0.515279   \n",
            "MultipleLines_No phone service                0.022574   \n",
            "MultipleLines_Yes                             0.257152   \n",
            "InternetService_Fiber optic                   0.329349   \n",
            "InternetService_No                           -0.415552   \n",
            "OnlineSecurity_No internet service           -0.415552   \n",
            "OnlineSecurity_Yes                            0.176207   \n",
            "OnlineBackup_No internet service             -0.415552   \n",
            "OnlineBackup_Yes                              0.282106   \n",
            "DeviceProtection_No internet service         -0.415552   \n",
            "DeviceProtection_Yes                          0.390874   \n",
            "TechSupport_No internet service              -0.415552   \n",
            "TechSupport_Yes                               0.278070   \n",
            "StreamingTV_No internet service              -0.415552   \n",
            "StreamingTV_Yes                               1.000000   \n",
            "StreamingMovies_No internet service          -0.415552   \n",
            "StreamingMovies_Yes                           0.533094   \n",
            "Contract_One year                             0.061612   \n",
            "Contract_Two year                             0.072049   \n",
            "PaymentMethod_Credit card (automatic)         0.040433   \n",
            "PaymentMethod_Electronic check                0.144626   \n",
            "PaymentMethod_Mailed check                   -0.247742   \n",
            "\n",
            "                                       StreamingMovies_No internet service  \\\n",
            "gender                                                            0.006026   \n",
            "SeniorCitizen                                                    -0.182742   \n",
            "Partner                                                           0.000615   \n",
            "Dependents                                                        0.139812   \n",
            "tenure                                                           -0.039062   \n",
            "PhoneService                                                      0.172209   \n",
            "PaperlessBilling                                                 -0.321013   \n",
            "Charges.Monthly                                                  -0.763557   \n",
            "Charges.Total                                                    -0.374706   \n",
            "MultipleLines_No phone service                                   -0.172209   \n",
            "MultipleLines_Yes                                                -0.210564   \n",
            "InternetService_Fiber optic                                      -0.465793   \n",
            "InternetService_No                                                1.000000   \n",
            "OnlineSecurity_No internet service                                1.000000   \n",
            "OnlineSecurity_Yes                                               -0.333403   \n",
            "OnlineBackup_No internet service                                  1.000000   \n",
            "OnlineBackup_Yes                                                 -0.381593   \n",
            "DeviceProtection_No internet service                              1.000000   \n",
            "DeviceProtection_Yes                                             -0.380754   \n",
            "TechSupport_No internet service                                   1.000000   \n",
            "TechSupport_Yes                                                  -0.336298   \n",
            "StreamingTV_No internet service                                   1.000000   \n",
            "StreamingTV_Yes                                                  -0.415552   \n",
            "StreamingMovies_No internet service                               1.000000   \n",
            "StreamingMovies_Yes                                              -0.418675   \n",
            "Contract_One year                                                 0.038004   \n",
            "Contract_Two year                                                 0.218278   \n",
            "PaymentMethod_Credit card (automatic)                             0.001030   \n",
            "PaymentMethod_Electronic check                                   -0.284917   \n",
            "PaymentMethod_Mailed check                                        0.321361   \n",
            "\n",
            "                                       StreamingMovies_Yes  Contract_One year  \\\n",
            "gender                                           -0.010487           0.008026   \n",
            "SeniorCitizen                                     0.120176          -0.046262   \n",
            "Partner                                           0.117412           0.082783   \n",
            "Dependents                                       -0.039741           0.068368   \n",
            "tenure                                            0.286111           0.202570   \n",
            "PhoneService                                     -0.032959          -0.002791   \n",
            "PaperlessBilling                                  0.211716          -0.051391   \n",
            "Charges.Monthly                                   0.627429           0.004904   \n",
            "Charges.Total                                     0.519884           0.170649   \n",
            "MultipleLines_No phone service                    0.032959           0.002791   \n",
            "MultipleLines_Yes                                 0.258751          -0.003794   \n",
            "InternetService_Fiber optic                       0.322923          -0.076324   \n",
            "InternetService_No                               -0.418675           0.038004   \n",
            "OnlineSecurity_No internet service               -0.418675           0.038004   \n",
            "OnlineSecurity_Yes                                0.187398           0.100162   \n",
            "OnlineBackup_No internet service                 -0.418675           0.038004   \n",
            "OnlineBackup_Yes                                  0.274501           0.083722   \n",
            "DeviceProtection_No internet service             -0.418675           0.038004   \n",
            "DeviceProtection_Yes                              0.402111           0.102495   \n",
            "TechSupport_No internet service                  -0.418675           0.038004   \n",
            "TechSupport_Yes                                   0.279358           0.095775   \n",
            "StreamingTV_No internet service                  -0.418675           0.038004   \n",
            "StreamingTV_Yes                                   0.533094           0.061612   \n",
            "StreamingMovies_No internet service              -0.418675           0.038004   \n",
            "StreamingMovies_Yes                               1.000000           0.064926   \n",
            "Contract_One year                                 0.064926           1.000000   \n",
            "Contract_Two year                                 0.073960          -0.289510   \n",
            "PaymentMethod_Credit card (automatic)             0.048575           0.067589   \n",
            "PaymentMethod_Electronic check                    0.137966          -0.109130   \n",
            "PaymentMethod_Mailed check                       -0.250595          -0.000116   \n",
            "\n",
            "                                       Contract_Two year  \\\n",
            "gender                                         -0.003695   \n",
            "SeniorCitizen                                  -0.117000   \n",
            "Partner                                         0.248091   \n",
            "Dependents                                      0.204613   \n",
            "tenure                                          0.558533   \n",
            "PhoneService                                    0.003519   \n",
            "PaperlessBilling                               -0.147889   \n",
            "Charges.Monthly                                -0.074681   \n",
            "Charges.Total                                   0.356226   \n",
            "MultipleLines_No phone service                 -0.003519   \n",
            "MultipleLines_Yes                               0.106253   \n",
            "InternetService_Fiber optic                    -0.211526   \n",
            "InternetService_No                              0.218278   \n",
            "OnlineSecurity_No internet service              0.218278   \n",
            "OnlineSecurity_Yes                              0.191773   \n",
            "OnlineBackup_No internet service                0.218278   \n",
            "OnlineBackup_Yes                                0.111400   \n",
            "DeviceProtection_No internet service            0.218278   \n",
            "DeviceProtection_Yes                            0.165096   \n",
            "TechSupport_No internet service                 0.218278   \n",
            "TechSupport_Yes                                 0.240824   \n",
            "StreamingTV_No internet service                 0.218278   \n",
            "StreamingTV_Yes                                 0.072049   \n",
            "StreamingMovies_No internet service             0.218278   \n",
            "StreamingMovies_Yes                             0.073960   \n",
            "Contract_One year                              -0.289510   \n",
            "Contract_Two year                               1.000000   \n",
            "PaymentMethod_Credit card (automatic)           0.173265   \n",
            "PaymentMethod_Electronic check                 -0.282138   \n",
            "PaymentMethod_Mailed check                     -0.004705   \n",
            "\n",
            "                                       PaymentMethod_Credit card (automatic)  \\\n",
            "gender                                                              0.001215   \n",
            "SeniorCitizen                                                      -0.024135   \n",
            "Partner                                                             0.082029   \n",
            "Dependents                                                          0.060267   \n",
            "tenure                                                              0.233006   \n",
            "PhoneService                                                       -0.007721   \n",
            "PaperlessBilling                                                   -0.013589   \n",
            "Charges.Monthly                                                     0.030550   \n",
            "Charges.Total                                                       0.182745   \n",
            "MultipleLines_No phone service                                      0.007721   \n",
            "MultipleLines_Yes                                                   0.060048   \n",
            "InternetService_Fiber optic                                        -0.050077   \n",
            "InternetService_No                                                  0.001030   \n",
            "OnlineSecurity_No internet service                                  0.001030   \n",
            "OnlineSecurity_Yes                                                  0.115721   \n",
            "OnlineBackup_No internet service                                    0.001030   \n",
            "OnlineBackup_Yes                                                    0.090785   \n",
            "DeviceProtection_No internet service                                0.001030   \n",
            "DeviceProtection_Yes                                                0.111554   \n",
            "TechSupport_No internet service                                     0.001030   \n",
            "TechSupport_Yes                                                     0.117272   \n",
            "StreamingTV_No internet service                                     0.001030   \n",
            "StreamingTV_Yes                                                     0.040433   \n",
            "StreamingMovies_No internet service                                 0.001030   \n",
            "StreamingMovies_Yes                                                 0.048575   \n",
            "Contract_One year                                                   0.067589   \n",
            "Contract_Two year                                                   0.173265   \n",
            "PaymentMethod_Credit card (automatic)                               1.000000   \n",
            "PaymentMethod_Electronic check                                     -0.373322   \n",
            "PaymentMethod_Mailed check                                         -0.286049   \n",
            "\n",
            "                                       PaymentMethod_Electronic check  \\\n",
            "gender                                                       0.000752   \n",
            "SeniorCitizen                                                0.171718   \n",
            "Partner                                                     -0.083852   \n",
            "Dependents                                                  -0.150642   \n",
            "tenure                                                      -0.208363   \n",
            "PhoneService                                                 0.003062   \n",
            "PaperlessBilling                                             0.208865   \n",
            "Charges.Monthly                                              0.271625   \n",
            "Charges.Total                                               -0.059971   \n",
            "MultipleLines_No phone service                              -0.003062   \n",
            "MultipleLines_Yes                                            0.083618   \n",
            "InternetService_Fiber optic                                  0.336410   \n",
            "InternetService_No                                          -0.284917   \n",
            "OnlineSecurity_No internet service                          -0.284917   \n",
            "OnlineSecurity_Yes                                          -0.112338   \n",
            "OnlineBackup_No internet service                            -0.284917   \n",
            "OnlineBackup_Yes                                            -0.000408   \n",
            "DeviceProtection_No internet service                        -0.284917   \n",
            "DeviceProtection_Yes                                        -0.003351   \n",
            "TechSupport_No internet service                             -0.284917   \n",
            "TechSupport_Yes                                             -0.114839   \n",
            "StreamingTV_No internet service                             -0.284917   \n",
            "StreamingTV_Yes                                              0.144626   \n",
            "StreamingMovies_No internet service                         -0.284917   \n",
            "StreamingMovies_Yes                                          0.137966   \n",
            "Contract_One year                                           -0.109130   \n",
            "Contract_Two year                                           -0.282138   \n",
            "PaymentMethod_Credit card (automatic)                       -0.373322   \n",
            "PaymentMethod_Electronic check                               1.000000   \n",
            "PaymentMethod_Mailed check                                  -0.387372   \n",
            "\n",
            "                                       PaymentMethod_Mailed check  \n",
            "gender                                                   0.013744  \n",
            "SeniorCitizen                                           -0.153477  \n",
            "Partner                                                 -0.095125  \n",
            "Dependents                                               0.059071  \n",
            "tenure                                                  -0.233852  \n",
            "PhoneService                                            -0.003319  \n",
            "PaperlessBilling                                        -0.205398  \n",
            "Charges.Monthly                                         -0.377437  \n",
            "Charges.Total                                           -0.294814  \n",
            "MultipleLines_No phone service                           0.003319  \n",
            "MultipleLines_Yes                                       -0.227206  \n",
            "InternetService_Fiber optic                             -0.306834  \n",
            "InternetService_No                                       0.321361  \n",
            "OnlineSecurity_No internet service                       0.321361  \n",
            "OnlineSecurity_Yes                                      -0.080798  \n",
            "OnlineBackup_No internet service                         0.321361  \n",
            "OnlineBackup_Yes                                        -0.174164  \n",
            "DeviceProtection_No internet service                     0.321361  \n",
            "DeviceProtection_Yes                                    -0.187373  \n",
            "TechSupport_No internet service                          0.321361  \n",
            "TechSupport_Yes                                         -0.085509  \n",
            "StreamingTV_No internet service                          0.321361  \n",
            "StreamingTV_Yes                                         -0.247742  \n",
            "StreamingMovies_No internet service                      0.321361  \n",
            "StreamingMovies_Yes                                     -0.250595  \n",
            "Contract_One year                                       -0.000116  \n",
            "Contract_Two year                                       -0.004705  \n",
            "PaymentMethod_Credit card (automatic)                   -0.286049  \n",
            "PaymentMethod_Electronic check                          -0.387372  \n",
            "PaymentMethod_Mailed check                               1.000000  \n",
            "\n",
            "[30 rows x 30 columns]\n"
          ]
        }
      ]
    },
    {
      "cell_type": "markdown",
      "source": [
        "###Remover as colunas que possuí multicolinearidade"
      ],
      "metadata": {
        "id": "ANhW2hgpWn3-"
      }
    },
    {
      "cell_type": "code",
      "source": [
        "# Crie uma lista com as colunas redundantes que você quer remover\n",
        "colunas_para_remover = [\n",
        "    'StreamingTV_No internet service',\n",
        "    'OnlineSecurity_No internet service',\n",
        "    'OnlineBackup_No internet service',\n",
        "    'DeviceProtection_No internet service',\n",
        "    'StreamingMovies_No internet service',\n",
        "    'TechSupport_No internet service','Charges.Total','MultipleLines_No phone service'\n",
        "]\n",
        "\n",
        "# Remova as colunas do seu DataFrame X\n",
        "X.drop(colunas_para_remover, axis=1, inplace=True)\n",
        "\n",
        "# Verifique se as colunas foram removidas\n",
        "print(X.columns)"
      ],
      "metadata": {
        "colab": {
          "base_uri": "https://localhost:8080/"
        },
        "id": "N55gYFMcfe6V",
        "outputId": "02aee895-636a-4d07-f7de-af978cd97c2b"
      },
      "execution_count": 155,
      "outputs": [
        {
          "output_type": "stream",
          "name": "stdout",
          "text": [
            "Index(['gender', 'SeniorCitizen', 'Partner', 'Dependents', 'tenure',\n",
            "       'PhoneService', 'PaperlessBilling', 'Charges.Monthly',\n",
            "       'MultipleLines_Yes', 'InternetService_Fiber optic',\n",
            "       'InternetService_No', 'OnlineSecurity_Yes', 'OnlineBackup_Yes',\n",
            "       'DeviceProtection_Yes', 'TechSupport_Yes', 'StreamingTV_Yes',\n",
            "       'StreamingMovies_Yes', 'Contract_One year', 'Contract_Two year',\n",
            "       'PaymentMethod_Credit card (automatic)',\n",
            "       'PaymentMethod_Electronic check', 'PaymentMethod_Mailed check'],\n",
            "      dtype='object')\n"
          ]
        }
      ]
    },
    {
      "cell_type": "markdown",
      "source": [
        "#Começando a treinar"
      ],
      "metadata": {
        "id": "XZoDNRDzjgJh"
      }
    },
    {
      "cell_type": "markdown",
      "source": [
        "####Modelo aleatório"
      ],
      "metadata": {
        "id": "iTMLLGTnW3FO"
      }
    },
    {
      "cell_type": "code",
      "source": [
        "from sklearn.dummy import DummyClassifier\n",
        "from sklearn.metrics import accuracy_score\n",
        "\n",
        "modelo_aleatorio = DummyClassifier(strategy='uniform', random_state=42)\n",
        "modelo_aleatorio.fit(X_treino, y_treino)\n",
        "\n",
        "previsoes_aleatorias = modelo_aleatorio.predict(X_teste)\n",
        "acuracia_aleatoria = accuracy_score(y_teste, previsoes_aleatorias)\n",
        "\n",
        "print(f\"Acurácia do modelo aleatório: {acuracia_aleatoria:.4f}\")"
      ],
      "metadata": {
        "colab": {
          "base_uri": "https://localhost:8080/"
        },
        "id": "1KQbk1JpkDGy",
        "outputId": "05de2a27-3181-41ab-ece0-f2b476c178bf"
      },
      "execution_count": 156,
      "outputs": [
        {
          "output_type": "stream",
          "name": "stdout",
          "text": [
            "Acurácia do modelo aleatório: 0.4904\n"
          ]
        }
      ]
    },
    {
      "cell_type": "markdown",
      "source": [
        "### Modelo KNN"
      ],
      "metadata": {
        "id": "ttYTN6MUb38Q"
      }
    },
    {
      "cell_type": "code",
      "source": [
        "from sklearn.neighbors import KNeighborsClassifier\n",
        "\n",
        "modelo_knn = KNeighborsClassifier(n_neighbors=12)\n",
        "modelo_knn.fit(X_treino, y_treino)\n",
        "\n",
        "print(\"Modelo KNN treinado com sucesso!\")"
      ],
      "metadata": {
        "colab": {
          "base_uri": "https://localhost:8080/"
        },
        "id": "_4J1H8w_b3Wi",
        "outputId": "a8886e29-e757-401d-f4ac-84f507edae98"
      },
      "execution_count": 157,
      "outputs": [
        {
          "output_type": "stream",
          "name": "stdout",
          "text": [
            "Modelo KNN treinado com sucesso!\n"
          ]
        }
      ]
    },
    {
      "cell_type": "code",
      "source": [
        "from sklearn.metrics import accuracy_score, confusion_matrix, ConfusionMatrixDisplay\n",
        "from sklearn.neighbors import KNeighborsClassifier\n",
        "\n",
        "previsoes_knn = modelo_knn.predict(X_teste)\n",
        "acuracia_knn = accuracy_score(y_teste, previsoes_knn)\n",
        "\n",
        "print(f\"Acurácia do modelo KNN: {acuracia_knn:.4f}\")\n",
        "\n",
        "matriz_confusao_knn = confusion_matrix(y_teste, previsoes_knn)\n",
        "visualizacao_knn = ConfusionMatrixDisplay(confusion_matrix=matriz_confusao_knn)\n",
        "\n",
        "visualizacao_knn.plot(cmap=plt.cm.Blues)\n",
        "plt.title('Matriz de Confusão (KNN)')\n",
        "plt.show()"
      ],
      "metadata": {
        "colab": {
          "base_uri": "https://localhost:8080/",
          "height": 489
        },
        "id": "BiHZRvkMb_vk",
        "outputId": "3da3350f-fe03-4464-940c-c06f3c0c07ad"
      },
      "execution_count": 158,
      "outputs": [
        {
          "output_type": "stream",
          "name": "stdout",
          "text": [
            "Acurácia do modelo KNN: 0.7800\n"
          ]
        },
        {
          "output_type": "display_data",
          "data": {
            "text/plain": [
              "<Figure size 640x480 with 2 Axes>"
            ],
            "image/png": "[encoded data removed]"
          },
          "metadata": {}
        }
      ]
    },
    {
      "cell_type": "markdown",
      "source": [
        "####Modelo de Árvore de decisão"
      ],
      "metadata": {
        "id": "8WaFVlCVXgVC"
      }
    },
    {
      "cell_type": "code",
      "source": [
        "from sklearn.model_selection import train_test_split\n",
        "from sklearn.tree import DecisionTreeClassifier\n",
        "\n",
        "X_treino, X_teste, y_treino, y_teste = train_test_split(X, y, test_size=0.2, random_state=42)\n",
        "\n",
        "modelo_arvore = DecisionTreeClassifier(max_depth=7, random_state=42)\n",
        "modelo_arvore.fit(X_treino, y_treino)\n",
        "\n",
        "print(\"Modelo de Árvore de Decisão treinado com sucesso!\")"
      ],
      "metadata": {
        "colab": {
          "base_uri": "https://localhost:8080/"
        },
        "id": "quPx27j2jisP",
        "outputId": "a0f965a5-973c-450a-8732-bb18136c05c5"
      },
      "execution_count": 159,
      "outputs": [
        {
          "output_type": "stream",
          "name": "stdout",
          "text": [
            "Modelo de Árvore de Decisão treinado com sucesso!\n"
          ]
        }
      ]
    },
    {
      "cell_type": "code",
      "source": [
        "previsoes = modelo_arvore.predict(X_teste)\n",
        "acuracia = accuracy_score(y_teste, previsoes)\n",
        "\n",
        "print(f\"A acurácia do modelo de Árvore de Decisão é: {acuracia:.4f}\")"
      ],
      "metadata": {
        "colab": {
          "base_uri": "https://localhost:8080/"
        },
        "id": "bQM5TZvRkqhS",
        "outputId": "09477179-825b-4d52-fee9-a364c0935def"
      },
      "execution_count": 160,
      "outputs": [
        {
          "output_type": "stream",
          "name": "stdout",
          "text": [
            "A acurácia do modelo de Árvore de Decisão é: 0.7835\n"
          ]
        }
      ]
    },
    {
      "cell_type": "markdown",
      "source": [
        "#####Avaliando a performace do modelo treinado"
      ],
      "metadata": {
        "id": "4OML-K54Xplt"
      }
    },
    {
      "cell_type": "code",
      "source": [
        "previsoes_treino = modelo_arvore.predict(X_treino)\n",
        "acuracia_treino = accuracy_score(y_treino, previsoes_treino)\n",
        "print(f\"Acurácia nos dados de treino: {acuracia_treino:.4f}\")\n",
        "\n",
        "previsoes_teste = modelo_arvore.predict(X_teste)\n",
        "acuracia_teste = accuracy_score(y_teste, previsoes_teste)\n",
        "print(f\"Acurácia nos dados de teste: {acuracia_teste:.4f}\")"
      ],
      "metadata": {
        "colab": {
          "base_uri": "https://localhost:8080/"
        },
        "id": "nC5WLeoYlyF4",
        "outputId": "2cde6c88-6474-4234-eabe-c3c4673f2942"
      },
      "execution_count": 161,
      "outputs": [
        {
          "output_type": "stream",
          "name": "stdout",
          "text": [
            "Acurácia nos dados de treino: 0.8181\n",
            "Acurácia nos dados de teste: 0.7835\n"
          ]
        }
      ]
    },
    {
      "cell_type": "code",
      "source": [
        "import matplotlib.pyplot as plt\n",
        "from sklearn.metrics import confusion_matrix, ConfusionMatrixDisplay\n",
        "\n",
        "matriz_confusao = confusion_matrix(y_teste, previsoes)\n",
        "visualizacao = ConfusionMatrixDisplay(confusion_matrix=matriz_confusao)\n",
        "\n",
        "visualizacao.plot(cmap=plt.cm.Blues)\n",
        "plt.title('Matriz de Confusão')\n",
        "plt.show()"
      ],
      "metadata": {
        "colab": {
          "base_uri": "https://localhost:8080/",
          "height": 472
        },
        "id": "VsxJmB7olAPk",
        "outputId": "1877a67b-892a-4bee-a6e6-dbc20ef0ffdc"
      },
      "execution_count": 162,
      "outputs": [
        {
          "output_type": "display_data",
          "data": {
            "text/plain": [
              "<Figure size 640x480 with 2 Axes>"
            ],
            "image/png": "[encoded data removed]"
          },
          "metadata": {}
        }
      ]
    },
    {
      "cell_type": "markdown",
      "source": [
        "####Influência de cada variável no modelo treinado"
      ],
      "metadata": {
        "id": "7VFnEXhGaFD4"
      }
    },
    {
      "cell_type": "code",
      "source": [
        "importancias = modelo_arvore.feature_importances_\n",
        "\n",
        "df_importancias = pd.DataFrame({'Feature': X.columns, 'Importancia': importancias})\n",
        "df_importancias = df_importancias.sort_values(by='Importancia', ascending=False)\n",
        "\n",
        "plt.figure(figsize=(10, 8))\n",
        "plt.barh(df_importancias['Feature'], df_importancias['Importancia'])\n",
        "plt.xlabel('Importância')\n",
        "plt.title('Importância das Features (DecisionTreeClassifier)')\n",
        "plt.show()\n",
        "\n",
        "print(\"As 10 features mais importantes são:\")\n",
        "print(df_importancias.head(10))"
      ],
      "metadata": {
        "colab": {
          "base_uri": "https://localhost:8080/",
          "height": 927
        },
        "id": "FE8hc1ZzY7p7",
        "outputId": "24f088c0-8128-4615-e76a-87d7c7a99049"
      },
      "execution_count": 163,
      "outputs": [
        {
          "output_type": "display_data",
          "data": {
            "text/plain": [
              "<Figure size 1000x800 with 1 Axes>"
            ],
            "image/png": "[encoded data removed]"
          },
          "metadata": {}
        },
        {
          "output_type": "stream",
          "name": "stdout",
          "text": [
            "As 10 features mais importantes são:\n",
            "                           Feature  Importancia\n",
            "4                           tenure     0.401335\n",
            "9      InternetService_Fiber optic     0.277992\n",
            "7                  Charges.Monthly     0.091620\n",
            "18               Contract_Two year     0.059061\n",
            "17               Contract_One year     0.035365\n",
            "10              InternetService_No     0.031466\n",
            "20  PaymentMethod_Electronic check     0.025891\n",
            "8                MultipleLines_Yes     0.009275\n",
            "11              OnlineSecurity_Yes     0.008895\n",
            "1                    SeniorCitizen     0.007822\n"
          ]
        }
      ]
    },
    {
      "cell_type": "markdown",
      "source": [
        "###Treinando o modelo Random Forest"
      ],
      "metadata": {
        "id": "5SJJfqCFpbLB"
      }
    },
    {
      "cell_type": "code",
      "source": [
        "from sklearn.ensemble import RandomForestClassifier\n",
        "\n",
        "modelo_random_forest = RandomForestClassifier(n_estimators=100, max_depth=7, random_state=42)\n",
        "modelo_random_forest.fit(X_treino, y_treino)\n",
        "\n",
        "print(\"Modelo Random Forest treinado com sucesso!\")"
      ],
      "metadata": {
        "colab": {
          "base_uri": "https://localhost:8080/"
        },
        "id": "POn5gv35peWa",
        "outputId": "888da9f6-0f1f-4bfb-c9dc-88243a98b4ba"
      },
      "execution_count": 164,
      "outputs": [
        {
          "output_type": "stream",
          "name": "stdout",
          "text": [
            "Modelo Random Forest treinado com sucesso!\n"
          ]
        }
      ]
    },
    {
      "cell_type": "markdown",
      "source": [
        "###Avaliando a performace do modelo treinado"
      ],
      "metadata": {
        "id": "TH9E2Z9YZ3h3"
      }
    },
    {
      "cell_type": "code",
      "source": [
        "from sklearn.ensemble import RandomForestClassifier\n",
        "\n",
        "previsoes_rf = modelo_random_forest.predict(X_teste)\n",
        "acuracia_rf = accuracy_score(y_teste, previsoes_rf)\n",
        "print(f\"Acurácia do modelo Random Forest: {acuracia_rf:.4f}\")\n",
        "\n",
        "matriz_confusao_rf = confusion_matrix(y_teste, previsoes_rf)\n",
        "visualizacao_rf = ConfusionMatrixDisplay(confusion_matrix=matriz_confusao_rf)\n",
        "\n",
        "visualizacao_rf.plot(cmap=plt.cm.Blues)\n",
        "plt.title('Matriz de Confusão (Random Forest)')\n",
        "plt.show()"
      ],
      "metadata": {
        "colab": {
          "base_uri": "https://localhost:8080/",
          "height": 489
        },
        "id": "xIIN_pj3potn",
        "outputId": "6f551c19-776b-41a1-e432-a843776c901e"
      },
      "execution_count": 165,
      "outputs": [
        {
          "output_type": "stream",
          "name": "stdout",
          "text": [
            "Acurácia do modelo Random Forest: 0.8048\n"
          ]
        },
        {
          "output_type": "display_data",
          "data": {
            "text/plain": [
              "<Figure size 640x480 with 2 Axes>"
            ],
            "image/png": "[encoded data removed]"
          },
          "metadata": {}
        }
      ]
    },
    {
      "cell_type": "markdown",
      "source": [
        "####Influência de cada variável no modelo treinado"
      ],
      "metadata": {
        "id": "jtPUmYbaaQ1o"
      }
    },
    {
      "cell_type": "code",
      "source": [
        "importancias = modelo_random_forest.feature_importances_\n",
        "\n",
        "df_importancias = pd.DataFrame({'Feature': X.columns, 'Importancia': importancias})\n",
        "df_importancias = df_importancias.sort_values(by='Importancia', ascending=False)\n",
        "\n",
        "plt.figure(figsize=(10, 8))\n",
        "plt.barh(df_importancias['Feature'], df_importancias['Importancia'])\n",
        "plt.xlabel('Importância')\n",
        "plt.title('Importância das Features (Random Forest)')\n",
        "plt.show()\n",
        "\n",
        "print(\"As 10 features mais importantes são:\")\n",
        "print(df_importancias.head(10))"
      ],
      "metadata": {
        "colab": {
          "base_uri": "https://localhost:8080/",
          "height": 927
        },
        "id": "K8Z12iRcsudK",
        "outputId": "bd6f2eda-f718-4cc8-e680-dcad075705ce"
      },
      "execution_count": 166,
      "outputs": [
        {
          "output_type": "display_data",
          "data": {
            "text/plain": [
              "<Figure size 1000x800 with 1 Axes>"
            ],
            "image/png": "[encoded data removed]"
          },
          "metadata": {}
        },
        {
          "output_type": "stream",
          "name": "stdout",
          "text": [
            "As 10 features mais importantes são:\n",
            "                           Feature  Importancia\n",
            "4                           tenure     0.281060\n",
            "9      InternetService_Fiber optic     0.110371\n",
            "18               Contract_Two year     0.108255\n",
            "7                  Charges.Monthly     0.108082\n",
            "20  PaymentMethod_Electronic check     0.089606\n",
            "10              InternetService_No     0.052654\n",
            "17               Contract_One year     0.050677\n",
            "14                 TechSupport_Yes     0.033220\n",
            "11              OnlineSecurity_Yes     0.024711\n",
            "6                 PaperlessBilling     0.023579\n"
          ]
        }
      ]
    }
  ]
}